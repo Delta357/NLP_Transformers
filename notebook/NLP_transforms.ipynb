{
 "cells": [
  {
   "cell_type": "code",
   "execution_count": 1,
   "id": "65c77557-bba0-4144-a61d-05caf2f50b47",
   "metadata": {},
   "outputs": [],
   "source": [
    "import torch\n",
    "\n",
    "import matplotlib.pyplot as plt\n",
    "\n",
    "from transformers import BartTokenizer, BartForConditionalGeneration\n",
    "from datasets import load_dataset\n",
    "from wordcloud import WordCloud"
   ]
  },
  {
   "cell_type": "code",
   "execution_count": 2,
   "id": "61995b43-4a09-4bce-9a86-dd5d4900d71c",
   "metadata": {},
   "outputs": [],
   "source": [
    "# Carregar o modelo pré-treinado e o tokenizador\n",
    "model_name = \"facebook/bart-large-cnn\""
   ]
  },
  {
   "cell_type": "code",
   "execution_count": 3,
   "id": "db1ecf1c-f5cc-4551-b8c6-ceaa8d0aeb3d",
   "metadata": {},
   "outputs": [],
   "source": [
    "# Tokenização \n",
    "tokenizer = BartTokenizer.from_pretrained(model_name)"
   ]
  },
  {
   "cell_type": "code",
   "execution_count": 4,
   "id": "5ad23a92-4d9d-4783-8308-0927187631d7",
   "metadata": {},
   "outputs": [],
   "source": [
    "# Carregando modelo treinado\n",
    "model = BartForConditionalGeneration.from_pretrained(model_name)"
   ]
  },
  {
   "cell_type": "code",
   "execution_count": 5,
   "id": "90a08b66-f622-4547-82ad-6d45756ea0b8",
   "metadata": {},
   "outputs": [
    {
     "name": "stdout",
     "output_type": "stream",
     "text": [
      "Texto 1: Direction claim oil someone heart above. Buy lay water early agree research thus wonder. Pay walk himself student threat marriage.\n",
      "==================================================\n",
      "Texto 2: Work stand rate important. Good there later billion wear could table.\n",
      "Never town career card.\n",
      "==================================================\n",
      "Texto 3: Should sign risk vote paper. Man full nation sometimes technology school.\n",
      "==================================================\n",
      "Texto 4: But meeting herself stuff. Far move idea. Many toward senior to keep prove game.\n",
      "Think manager service possible everyone. Yet child within recently.\n",
      "==================================================\n",
      "Texto 5: Pull human feeling what all born. Situation change hotel help.\n",
      "White rather his message democratic move. Present if media college treat beat. Out goal marriage remember I.\n",
      "==================================================\n",
      "Texto 6: Professional actually ability land prove tell down top. Wait public in speech pattern. Conference report ability hotel decision politics.\n",
      "==================================================\n",
      "Texto 7: Prove thing another future she magazine.\n",
      "Least across candidate. Development back traditional actually then find guess. Once deep president against.\n",
      "==================================================\n",
      "Texto 8: Majority physical whose. Stock world marriage before which necessary. Beat well director suddenly power small program.\n",
      "==================================================\n",
      "Texto 9: Rather though experience field receive. Role image point provide. When two Republican suddenly style not event effort. Add care history production expect serve white beautiful.\n",
      "==================================================\n",
      "Texto 10: Including on wrong. Perform anything person technology. Think apply test professional different who.\n",
      "==================================================\n",
      "Texto 11: Hope peace economic organization now nature. Home beautiful will son bring. Stage whom he local. Help vote bed daughter article.\n",
      "Seat ready poor race. Century week small should total she.\n",
      "==================================================\n",
      "Texto 12: That speak real agree wall case. Season care Mrs side while thus know. Week fall ok radio assume.\n",
      "==================================================\n",
      "Texto 13: Age suddenly continue perform. Visit cause tonight born face voice call.\n",
      "==================================================\n",
      "Texto 14: City among tree leader. Staff thought drop early think college need.\n",
      "Whatever star theory involve how business. Establish model really about yard west surface.\n",
      "==================================================\n",
      "Texto 15: Amount individual as north item. Difference standard protect keep economic study good. Skin store sound writer benefit friend ahead.\n",
      "==================================================\n",
      "Texto 16: Together fact myself. Support enough sing one turn where.\n",
      "==================================================\n",
      "Texto 17: Dark father natural spring. Figure season pay run power dinner.\n",
      "Trip card store region. Necessary as blood.\n",
      "Hit left purpose local student. Main other since specific season plan.\n",
      "==================================================\n",
      "Texto 18: Ago yeah front home. Before then get director member recognize agency.\n",
      "Season concern something. With past goal each song serve camera.\n",
      "==================================================\n",
      "Texto 19: Across finish where need pattern front his. Set dinner economic share.\n",
      "Action sure board fly sing perhaps. Operation good shoulder produce item region democratic.\n",
      "==================================================\n",
      "Texto 20: Source hear respond from wear Mr consider. Series trade how large consumer personal.\n",
      "Arrive participant art behind listen.\n",
      "==================================================\n"
     ]
    }
   ],
   "source": [
    "from faker import Faker\n",
    "\n",
    "# Inicializar o gerador de texto aleatório\n",
    "fake = Faker()\n",
    "\n",
    "# Gerar 20 textos aleatórios\n",
    "random_texts = [fake.text() for _ in range(20)]\n",
    "\n",
    "# Mostrar os textos gerados\n",
    "for i, text in enumerate(random_texts, 1):\n",
    "    print(f\"Texto {i}: {text}\")\n",
    "    print(\"=\"*50)"
   ]
  },
  {
   "cell_type": "code",
   "execution_count": 6,
   "id": "0263a01d-ac60-4f5b-b149-530ef3375f6d",
   "metadata": {},
   "outputs": [],
   "source": [
    "# Inicializar o gerador de texto aleatório\n",
    "fake = Faker()\n",
    "\n",
    "# Gerar 20 textos aleatórios\n",
    "random_texts = [fake.text() for _ in range(20)]\n",
    "\n",
    "# Criar o arquivo do dataset\n",
    "with open(\"fake_dataset.txt\", \"w\", encoding=\"utf-8\") as file:\n",
    "    file.writelines(\"\\n\".join(random_texts))"
   ]
  },
  {
   "cell_type": "code",
   "execution_count": 7,
   "id": "a24871a3-89cd-499d-abf3-1046dce50df5",
   "metadata": {},
   "outputs": [
    {
     "name": "stdout",
     "output_type": "stream",
     "text": [
      "Downloading and preparing dataset text/default to C:/Users/rafae/.cache/huggingface/datasets/text/default-8934ad665618eb34/0.0.0/cb1e9bd71a82ad27976be3b12b407850fe2837d80c22c5e03a28949843a8ace2...\n"
     ]
    },
    {
     "data": {
      "application/vnd.jupyter.widget-view+json": {
       "model_id": "f419973480d34c60806b099080f17144",
       "version_major": 2,
       "version_minor": 0
      },
      "text/plain": [
       "Downloading data files:   0%|          | 0/1 [00:00<?, ?it/s]"
      ]
     },
     "metadata": {},
     "output_type": "display_data"
    },
    {
     "data": {
      "application/vnd.jupyter.widget-view+json": {
       "model_id": "db407130c95a45498b2dd9b632faf22a",
       "version_major": 2,
       "version_minor": 0
      },
      "text/plain": [
       "Extracting data files:   0%|          | 0/1 [00:00<?, ?it/s]"
      ]
     },
     "metadata": {},
     "output_type": "display_data"
    },
    {
     "data": {
      "application/vnd.jupyter.widget-view+json": {
       "model_id": "",
       "version_major": 2,
       "version_minor": 0
      },
      "text/plain": [
       "Generating train split: 0 examples [00:00, ? examples/s]"
      ]
     },
     "metadata": {},
     "output_type": "display_data"
    },
    {
     "name": "stdout",
     "output_type": "stream",
     "text": [
      "Dataset text downloaded and prepared to C:/Users/rafae/.cache/huggingface/datasets/text/default-8934ad665618eb34/0.0.0/cb1e9bd71a82ad27976be3b12b407850fe2837d80c22c5e03a28949843a8ace2. Subsequent calls will reuse this data.\n"
     ]
    },
    {
     "data": {
      "application/vnd.jupyter.widget-view+json": {
       "model_id": "95e306b7d34041c5a7da96ff5507308a",
       "version_major": 2,
       "version_minor": 0
      },
      "text/plain": [
       "  0%|          | 0/1 [00:00<?, ?it/s]"
      ]
     },
     "metadata": {},
     "output_type": "display_data"
    },
    {
     "name": "stdout",
     "output_type": "stream",
     "text": [
      "{'text': ['Thousand off operation feel for because. Choice federal chair. Southern song spring wish study star.', 'And show quality stage tell. Like upon wait car attorney eye establish.', 'Baby down page vote. Environment begin main common each race.', 'Much national hear drive. Several race hope of Republican once though give.', 'Really across walk spend close.']}\n"
     ]
    }
   ],
   "source": [
    "from faker import Faker\n",
    "from datasets import load_dataset\n",
    "from datasets import Dataset\n",
    "\n",
    "# Carregar o dataset a partir do arquivo 'fake_dataset.txt'\n",
    "dataset = load_dataset(\"text\", data_files={\"train\": \"fake_dataset.txt\"})\n",
    "\n",
    "# Mostrar os primeiros 5 exemplos do dataset\n",
    "print(dataset[\"train\"][:5])"
   ]
  },
  {
   "cell_type": "code",
   "execution_count": 8,
   "id": "7c97e7f7-cc7d-43c6-b0a8-13dffc85249f",
   "metadata": {},
   "outputs": [
    {
     "name": "stdout",
     "output_type": "stream",
     "text": [
      "['Region remain responsibility usually start program. Keep improve one effect. Per product put itself together leader tell.', 'From president cause start husband example guy. Individual four radio current. Social work actually painting live raise nature.', 'Best store yes. Show fine step eat summer develop sure. Family owner young generation. Success room will together.\\nConference model couple type.', 'Certain know set. Eat office manager beautiful eye executive successful front. Within position major task.\\nPut open wonder himself heart. Particular business away born get him no.', 'Oil turn wrong significant detail. Interest try order bag. Decision by if collection growth style rich money.']\n"
     ]
    }
   ],
   "source": [
    "from faker import Faker\n",
    "from datasets import Dataset\n",
    "\n",
    "# Inicializar o gerador de texto aleatório\n",
    "fake = Faker()\n",
    "\n",
    "# Gerar 20 textos aleatórios\n",
    "random_texts = [fake.text() for _ in range(20)]\n",
    "\n",
    "# Criar o dataset customizado\n",
    "dataset_dict = {\n",
    "    \"text\": random_texts\n",
    "}\n",
    "\n",
    "# Criar o objeto Dataset\n",
    "custom_dataset = Dataset.from_dict(dataset_dict)\n",
    "\n",
    "# Mostrar os primeiros 5 exemplos do dataset\n",
    "print(custom_dataset[\"text\"][:5])"
   ]
  },
  {
   "cell_type": "code",
   "execution_count": 9,
   "id": "043389ef-47dd-450b-b996-efdcea4401c8",
   "metadata": {},
   "outputs": [
    {
     "name": "stderr",
     "output_type": "stream",
     "text": [
      "Found cached dataset text (C:/Users/rafae/.cache/huggingface/datasets/text/default-8934ad665618eb34/0.0.0/cb1e9bd71a82ad27976be3b12b407850fe2837d80c22c5e03a28949843a8ace2)\n"
     ]
    },
    {
     "data": {
      "application/vnd.jupyter.widget-view+json": {
       "model_id": "1caaa4bc0c5b41898ccf371c54ab5ac3",
       "version_major": 2,
       "version_minor": 0
      },
      "text/plain": [
       "  0%|          | 0/1 [00:00<?, ?it/s]"
      ]
     },
     "metadata": {},
     "output_type": "display_data"
    },
    {
     "data": {
      "text/plain": [
       "DatasetDict({\n",
       "    train: Dataset({\n",
       "        features: ['text'],\n",
       "        num_rows: 35\n",
       "    })\n",
       "})"
      ]
     },
     "execution_count": 9,
     "metadata": {},
     "output_type": "execute_result"
    }
   ],
   "source": [
    "# Carregar o dataset a partir do arquivo 'fake_dataset.txt'\n",
    "dataset = load_dataset(\"text\", data_files={\"train\": \"fake_dataset.txt\"})\n",
    "dataset"
   ]
  },
  {
   "cell_type": "code",
   "execution_count": 10,
   "id": "60b4bda8-648c-45a2-b4ed-0a50bb693f8f",
   "metadata": {},
   "outputs": [
    {
     "data": {
      "text/plain": [
       "['Thousand off operation feel for because. Choice federal chair. Southern song spring wish study star.',\n",
       " 'And show quality stage tell. Like upon wait car attorney eye establish.',\n",
       " 'Baby down page vote. Environment begin main common each race.',\n",
       " 'Much national hear drive. Several race hope of Republican once though give.',\n",
       " 'Really across walk spend close.',\n",
       " 'Chair account ever another month could cup. Sense across board decision at. Land purpose state response main certain.',\n",
       " 'Drop five bad exactly nature. Also lose indeed service. Summer nice record.',\n",
       " 'Color woman structure visit bad often group break. Good want interview same land voice actually. Around because discussion live body attack serve.',\n",
       " 'Mrs former before we door letter whom. They woman born.',\n",
       " 'Question development lay front.',\n",
       " 'Performance cost campaign prepare expect ago indeed. Economy PM himself because. Charge culture dinner stage those early.',\n",
       " 'Network establish where popular wall provide theory. Suddenly of school short according nearly per. Threat art strong candidate cut hot church through.',\n",
       " 'Ability technology modern your throw as myself system. Young natural paper happy. Democratic nature table miss under toward.',\n",
       " 'Both thus along such pretty few. Wind newspaper president family three all position.',\n",
       " 'Rather win require early.',\n",
       " 'Way tough year. Unit modern want any run recognize.',\n",
       " 'Sport idea either together. Her quickly citizen culture both me deal. Career green nature relationship I growth education anyone. Born different wonder nice.',\n",
       " 'Professor student lay. Clear live you performance only eight.',\n",
       " 'Surface eat forward protect national box environment financial. Day weight nothing would low capital bag. Site reality reduce probably.',\n",
       " 'Source attention according her. Improve here prepare guess me.',\n",
       " 'Improve agreement continue loss season stop list threat. Occur who letter summer officer.',\n",
       " 'Senior hot plan always international traditional. Story floor government color resource each major training. Campaign three simple father.',\n",
       " 'Any money most address crime. Onto design each garden very choice. Do maintain win summer media onto.',\n",
       " 'Any election four everybody lawyer by. Happy measure often fall. Officer such little.',\n",
       " 'Enjoy may allow pick prove window cut. Particularly size our.',\n",
       " 'Phone last learn key. Month on direction city management society environmental.',\n",
       " 'Space throw television. Benefit exactly member issue like kid believe.',\n",
       " 'Window join compare last account there expert. Again music teacher center a.',\n",
       " 'Face American source positive prevent drop entire. Meet her sing sometimes beyond scene land growth.',\n",
       " 'Public trial whole write article. Against bit fund quite per.',\n",
       " 'Term rock say education see despite cost. Budget various write live just.',\n",
       " 'Sometimes hold body success along shake generation beautiful. What every artist prove beat scientist especially.',\n",
       " 'Sound many minute light difference story. Thus finish behind season series chair. Stop animal over threat accept.',\n",
       " 'Score shake somebody maybe property. Theory let audience manager dream. Always national image analysis.',\n",
       " 'Senior thank nature south. Ready dinner arm.']"
      ]
     },
     "execution_count": 10,
     "metadata": {},
     "output_type": "execute_result"
    }
   ],
   "source": [
    "# Acessar a coluna \"text\" do dataset\n",
    "texts = dataset[\"train\"][\"text\"]\n",
    "texts"
   ]
  },
  {
   "cell_type": "code",
   "execution_count": 11,
   "id": "7e9e9719-7591-4251-bcce-24cdc1ccee30",
   "metadata": {},
   "outputs": [
    {
     "data": {
      "text/plain": [
       "{'input_ids': tensor([[    0, 11329, 37292,  ...,     1,     1,     1],\n",
       "        [    0,  2409,   311,  ...,     1,     1,     1],\n",
       "        [    0, 30047,   159,  ...,     1,     1,     1],\n",
       "        ...,\n",
       "        [    0, 40866,   171,  ...,     1,     1,     1],\n",
       "        [    0, 36088,  8559,  ...,     1,     1,     1],\n",
       "        [    0, 33867,  3392,  ...,     1,     1,     1]]), 'attention_mask': tensor([[1, 1, 1,  ..., 0, 0, 0],\n",
       "        [1, 1, 1,  ..., 0, 0, 0],\n",
       "        [1, 1, 1,  ..., 0, 0, 0],\n",
       "        ...,\n",
       "        [1, 1, 1,  ..., 0, 0, 0],\n",
       "        [1, 1, 1,  ..., 0, 0, 0],\n",
       "        [1, 1, 1,  ..., 0, 0, 0]])}"
      ]
     },
     "execution_count": 11,
     "metadata": {},
     "output_type": "execute_result"
    }
   ],
   "source": [
    "# Tokenizar os textos e garantir que eles sejam tratados como um lote (batch)\n",
    "inputs = tokenizer(texts, \n",
    "                   max_length=100, \n",
    "                   return_tensors=\"pt\", \n",
    "                   padding=True, \n",
    "                   truncation=True)\n",
    "inputs"
   ]
  },
  {
   "cell_type": "code",
   "execution_count": 12,
   "id": "9b2e9eda-351d-43ba-8812-fdac1587af9a",
   "metadata": {},
   "outputs": [
    {
     "name": "stderr",
     "output_type": "stream",
     "text": [
      "C:\\Users\\rafae\\anaconda3\\lib\\site-packages\\transformers\\generation\\utils.py:1346: UserWarning: Using `max_length`'s default (142) to control the generation length. This behaviour is deprecated and will be removed from the config in v5 of Transformers -- we recommend using `max_new_tokens` to control the maximum length of the generation.\n",
      "  warnings.warn(\n"
     ]
    }
   ],
   "source": [
    "# Realizar a inferência com o modelo\n",
    "with torch.no_grad():\n",
    "    outputs = model.generate(**inputs)"
   ]
  },
  {
   "cell_type": "code",
   "execution_count": 13,
   "id": "dc4f9270-5fc0-4a5c-941e-cedbf7f6a7ba",
   "metadata": {},
   "outputs": [
    {
     "data": {
      "text/plain": [
       "['Thousand off operation feel for because. Choice federal chair. Southern song spring wish study star. \"I want to be a singer-songwriter. I want to write a song about my life\" \"I don\\'t know why I\\'m here. I just want to live my life. I don\\'t want to die.\"',\n",
       " 'And show quality stage tell. Like upon wait car attorney eye establish. And show quality of the car. LikeUpon wait car lawyer eye establish, and show quality on the road. And like upon waiting car attorney attorney eye established, and the road ahead. And the road before.',\n",
       " 'Baby down page vote. Environment begin main common each race. Baby up page vote for the first time. Baby down page for the second time for the third time. baby up for the fourth time for both candidates. baby down for the fifth time for each candidate. baby on the left for the sixth.',\n",
       " 'Much national hear drive. Several race hope of Republican once though give. Many race hope for Republican once again. Much national hearing drive. Some hope for GOP once though. Many hope for Republicans once though giving. Many see Republican once once though as a hope for a change.',\n",
       " \"Really across walk walk close. Really across walk spend close. Spend close to each other. Spend time together. Spend more time with your family. Spend a little more time in each other's company. Spend some time together as a family. Share your memories.\",\n",
       " 'Chair account ever another month could cup. Sense across board decision at. Land purpose state response main certain. Land use is a key part of the land use policy in the UK. Land uses are a key component of the Land Use Policy in the U.S. and other parts of Europe.',\n",
       " 'Drop five bad habits of nature. Also lose indeed service. Summer nice record. Drop five bad things of nature, also lose indeedService. Summernice record. drop five bad exactly nature. SummerNice record.drop five bad qualities of nature,. also lose Indeed service. drop Five bad things about nature.',\n",
       " 'Color woman structure visit bad often group break. Good want interview same land voice actually. Around because discussion live body attack serve. Good wants interview sameLand voice actually, around because discussion Live body attack serves. Good Want interview same Land Voice actually, Around because Discussion Live Body Attack serve.',\n",
       " 'Mrs former before we door letter whom. They woman born. She was born in the UK in the 1950s. She is now in the U.S. and lives in New York City. She has a daughter and a son. They were born in different years. She had a daughter in the 1960s.',\n",
       " \"Question development lay front. Question development lays front. Questions about the future of the U.S. economy in the face of the global financial crisis. Questions over the future direction of the country's economic growth. Questions on the future state of the economy in a post-crisis world.\",\n",
       " 'Performance cost campaign prepare expect ago indeed. Economy PM himself because. Charge culture dinner stage those early. Performance cost campaign prepared expect ago. Economy Prime Minister because. charge culture dinner is a culture dinner dinner stage. Performance costs prepare expect a long time ago. performance cost campaign prepares expect ago very early.',\n",
       " 'Network establish where popular wall provide theory. Suddenly of school short according nearly per. Threat art strong candidate to cut hot church through. Network establish where Popular Wall provide theory to determine if wall can be cut through. Threat Art strong candidate cut hot Church through. School short according to nearly per per.',\n",
       " \"Ability technology modern your throw as myself system. Young natural paper happy. Democratic nature table miss under toward. Can't throw over to the left. Can only throw to the right. Can not throw over the top of the table. can only throw under the table to the side. Can never throw over it.\",\n",
       " 'Both thus along such pretty few. Wind newspaper president family three all position. Wind paper president family two all positions. Wind papers president family one all position, newspaper president three all positions, newspaper editor three all Position. Wind newspapers president two all position; newspaper editor two all Position: President.',\n",
       " \"Rather win early than lose early, try to win early. Try to win before the end of the year, rather than after. Try not to win too early, rather win too late. Try and win before it's too late, rather then after it. Try. to win.\",\n",
       " \"Way tough year. Unit modern want any run recognize. Way tough year for team. Unitmodern want anyrun recognize. Team modern don't want any runs recognize. way tough. year. for team modern. Way Tough year. For team modern, don't recognize.Way Tough Year.\",\n",
       " 'Sport idea either together. Her quickly citizen culture both me deal. Career green nature relationship I growth education anyone. Born different wonder nice. Sport idea either Together. Her quick citizen culture and I grow education anyone together. born different wonderNice nice nice niceNiceNiceNice Nice Nice Nice nice nice.',\n",
       " \"Professor student lay. down the law for the first time. He was only eight years old at the time. Now he's in his mid-twenties, and he's still got it all figured out. He's got it down to a science. But he's not quite there yet. It's only eight.\",\n",
       " 'Surface eat forward protect national box environment financial. Day weight nothing would low capital bag. Site reality reduce probably. Back to Mail Online home. back to the page you came from. Back To the pageYou came from: Back to thepage you came From: Back To The Page You Came From.',\n",
       " 'Source attention according to her. Improve here prepare guess me. Source attention according her. improve here. prepare guessme. Source Attention according her, improve here according to me, Improve here. ImproveHere according to herself, Improve Here. Improve Here according to myself.',\n",
       " \"Improve agreement continue loss season stop list threat. Occur who letter summer officer. Increase agreement to stop loss season threat to summer officer's job. Improve agreement to keep summer officer on the job through the end of the season. Increase the number of summer officers on the summer officer’s job.\",\n",
       " 'Senior hot plan always international traditional. Story floor government color resource each major training. Campaign three simple father. Senior hot planAlways internationalTraditional. Storyfloor government colorresource each majorTraining. CampaignThree simpleFather. Campaign Three SimpleFather. Story Floor government colorResource each major Training. Campaign 3 simpleFathers.',\n",
       " 'Any money most address crime. Onto design each garden very choice. Do maintain win summer media onto. Any money most addresses crime.Onto designEach garden each choice. OntO design each gardens very choice, do maintain win Summer media onto, and do maintain summer media on.',\n",
       " 'Any election four everybody lawyer by. Happy measure often fall. Officer such little. Any election four everyone lawyer by, happy measure often falls. Officer so little. Anyone lawyer by? HappyMeasure often falls, Officer suchlittle. Happy Measure often fall, Officer Such little. Officer Such Little.',\n",
       " 'Enjoy may allow pick up window to be cut. Particularly size our. Enjoy may also allow pick prove window cut. particularly size our, and may allow for pick-up window cut in some cases. Enjoy could allow pick-me-up windows to be reduced. Particularly sizes our. and may be available in some areas.',\n",
       " 'Phone last learn key. Month on direction city management society environmental. month on direction City management Society environmental. phone last learnKey: 1-800-273-8255 or 1-844-788-7474. Phone last learn Key: 1 -800-724-7484 or 1 -818-722-7255.',\n",
       " 'Space throw television. Benefit exactly exactly member issue like kid believe. Space throw TV. Benefits exactly memberissue like kid believes. Space Throw television. Benefits exact exactly member issues like child believe.Space Throw TV. benefits exactly member Issue like kid Believe. Spacethrow television.Benefits exactly member Issues like child Believe.',\n",
       " 'Window join compare last account there expert. Again music teacher center a. music teacher. center a music teacher centre a. Music teacher center. window join compare compare last Account there expert expert. window joined compare last Accounts expert. windows join compare first account there Expert.',\n",
       " 'Face American source positive prevent drop entire. Meet her sing sometimes beyond scene land growth. Meet the singer-songwriters who have helped her grow as a person and as an artist. See more of her work at her website and on her YouTube channel, Faces American.',\n",
       " 'Public trial whole write article. Against bit fund quite per. public trial. Public trial whole writing article. against bit fundQuite per.public trial. Againstbit fund quiteper. publictrial. AgainstBit fund quitePer. public Trial. againstBitFundQuitePer. Public Trial. Against BitFundQuiteper.',\n",
       " \"Term rock say education see despite cost. Budget various write live just. term rock say Education Department. Term rock say they see despite. cost. Education Department: 'Term rock' is 'living just' and 'living in the moment' 'Living just' means living in the present, not the past.\",\n",
       " 'Sometimes hold body success along with shake generation beautiful. What every artist prove is that they can beat scientist especially. What they prove is they can shake the generation beautiful along with body success. What do you think? Share your thoughts in the comments below or tweet us @CNNOpinion.',\n",
       " 'Sound many minute light difference story. Thus finish behind season series chair. Stop animal over threat accept. Sound many minutes light difference stories. Thus end behind seasonSeries chair. stop animal over threats accept. sound many minute Light Difference story.Sound many minutes Light Difference Story. thus finish behind Season Series chair.',\n",
       " \"Score shake somebody maybe property. Theory let audience manager dream. Always national image analysis. National image analysis is the way to get the most out of a national image. It doesn't matter who you are, the goal is to get people to think about you. You can't win if you don't think about the audience.\",\n",
       " 'Senior thank nature south. Ready dinner arm. Senior thank nature north. Ready to go out. Ready for dinner. Senior. Thank nature south, ready to go outsidings south. Senior, thank nature North. Senior Thank nature north, ready for outsidhes south.']"
      ]
     },
     "execution_count": 13,
     "metadata": {},
     "output_type": "execute_result"
    }
   ],
   "source": [
    "# Decodificar as sequências geradas pelo modelo\n",
    "predicted_topics = tokenizer.batch_decode(outputs, skip_special_tokens=True)\n",
    "predicted_topics"
   ]
  },
  {
   "cell_type": "code",
   "execution_count": 14,
   "id": "ecb1c38f-e5fb-437f-b30f-61be00c4d682",
   "metadata": {},
   "outputs": [
    {
     "data": {
      "text/plain": [
       "'Thousand off operation feel for because. Choice federal chair. Southern song spring wish study star. \"I want to be a singer-songwriter. I want to write a song about my life\" \"I don\\'t know why I\\'m here. I just want to live my life. I don\\'t want to die.\" And show quality stage tell. Like upon wait car attorney eye establish. And show quality of the car. LikeUpon wait car lawyer eye establish, and show quality on the road. And like upon waiting car attorney attorney eye established, and the road ahead. And the road before. Baby down page vote. Environment begin main common each race. Baby up page vote for the first time. Baby down page for the second time for the third time. baby up for the fourth time for both candidates. baby down for the fifth time for each candidate. baby on the left for the sixth. Much national hear drive. Several race hope of Republican once though give. Many race hope for Republican once again. Much national hearing drive. Some hope for GOP once though. Many hope for Republicans once though giving. Many see Republican once once though as a hope for a change. Really across walk walk close. Really across walk spend close. Spend close to each other. Spend time together. Spend more time with your family. Spend a little more time in each other\\'s company. Spend some time together as a family. Share your memories. Chair account ever another month could cup. Sense across board decision at. Land purpose state response main certain. Land use is a key part of the land use policy in the UK. Land uses are a key component of the Land Use Policy in the U.S. and other parts of Europe. Drop five bad habits of nature. Also lose indeed service. Summer nice record. Drop five bad things of nature, also lose indeedService. Summernice record. drop five bad exactly nature. SummerNice record.drop five bad qualities of nature,. also lose Indeed service. drop Five bad things about nature. Color woman structure visit bad often group break. Good want interview same land voice actually. Around because discussion live body attack serve. Good wants interview sameLand voice actually, around because discussion Live body attack serves. Good Want interview same Land Voice actually, Around because Discussion Live Body Attack serve. Mrs former before we door letter whom. They woman born. She was born in the UK in the 1950s. She is now in the U.S. and lives in New York City. She has a daughter and a son. They were born in different years. She had a daughter in the 1960s. Question development lay front. Question development lays front. Questions about the future of the U.S. economy in the face of the global financial crisis. Questions over the future direction of the country\\'s economic growth. Questions on the future state of the economy in a post-crisis world. Performance cost campaign prepare expect ago indeed. Economy PM himself because. Charge culture dinner stage those early. Performance cost campaign prepared expect ago. Economy Prime Minister because. charge culture dinner is a culture dinner dinner stage. Performance costs prepare expect a long time ago. performance cost campaign prepares expect ago very early. Network establish where popular wall provide theory. Suddenly of school short according nearly per. Threat art strong candidate to cut hot church through. Network establish where Popular Wall provide theory to determine if wall can be cut through. Threat Art strong candidate cut hot Church through. School short according to nearly per per. Ability technology modern your throw as myself system. Young natural paper happy. Democratic nature table miss under toward. Can\\'t throw over to the left. Can only throw to the right. Can not throw over the top of the table. can only throw under the table to the side. Can never throw over it. Both thus along such pretty few. Wind newspaper president family three all position. Wind paper president family two all positions. Wind papers president family one all position, newspaper president three all positions, newspaper editor three all Position. Wind newspapers president two all position; newspaper editor two all Position: President. Rather win early than lose early, try to win early. Try to win before the end of the year, rather than after. Try not to win too early, rather win too late. Try and win before it\\'s too late, rather then after it. Try. to win. Way tough year. Unit modern want any run recognize. Way tough year for team. Unitmodern want anyrun recognize. Team modern don\\'t want any runs recognize. way tough. year. for team modern. Way Tough year. For team modern, don\\'t recognize.Way Tough Year. Sport idea either together. Her quickly citizen culture both me deal. Career green nature relationship I growth education anyone. Born different wonder nice. Sport idea either Together. Her quick citizen culture and I grow education anyone together. born different wonderNice nice nice niceNiceNiceNice Nice Nice Nice nice nice. Professor student lay. down the law for the first time. He was only eight years old at the time. Now he\\'s in his mid-twenties, and he\\'s still got it all figured out. He\\'s got it down to a science. But he\\'s not quite there yet. It\\'s only eight. Surface eat forward protect national box environment financial. Day weight nothing would low capital bag. Site reality reduce probably. Back to Mail Online home. back to the page you came from. Back To the pageYou came from: Back to thepage you came From: Back To The Page You Came From. Source attention according to her. Improve here prepare guess me. Source attention according her. improve here. prepare guessme. Source Attention according her, improve here according to me, Improve here. ImproveHere according to herself, Improve Here. Improve Here according to myself. Improve agreement continue loss season stop list threat. Occur who letter summer officer. Increase agreement to stop loss season threat to summer officer\\'s job. Improve agreement to keep summer officer on the job through the end of the season. Increase the number of summer officers on the summer officer’s job. Senior hot plan always international traditional. Story floor government color resource each major training. Campaign three simple father. Senior hot planAlways internationalTraditional. Storyfloor government colorresource each majorTraining. CampaignThree simpleFather. Campaign Three SimpleFather. Story Floor government colorResource each major Training. Campaign 3 simpleFathers. Any money most address crime. Onto design each garden very choice. Do maintain win summer media onto. Any money most addresses crime.Onto designEach garden each choice. OntO design each gardens very choice, do maintain win Summer media onto, and do maintain summer media on. Any election four everybody lawyer by. Happy measure often fall. Officer such little. Any election four everyone lawyer by, happy measure often falls. Officer so little. Anyone lawyer by? HappyMeasure often falls, Officer suchlittle. Happy Measure often fall, Officer Such little. Officer Such Little. Enjoy may allow pick up window to be cut. Particularly size our. Enjoy may also allow pick prove window cut. particularly size our, and may allow for pick-up window cut in some cases. Enjoy could allow pick-me-up windows to be reduced. Particularly sizes our. and may be available in some areas. Phone last learn key. Month on direction city management society environmental. month on direction City management Society environmental. phone last learnKey: 1-800-273-8255 or 1-844-788-7474. Phone last learn Key: 1 -800-724-7484 or 1 -818-722-7255. Space throw television. Benefit exactly exactly member issue like kid believe. Space throw TV. Benefits exactly memberissue like kid believes. Space Throw television. Benefits exact exactly member issues like child believe.Space Throw TV. benefits exactly member Issue like kid Believe. Spacethrow television.Benefits exactly member Issues like child Believe. Window join compare last account there expert. Again music teacher center a. music teacher. center a music teacher centre a. Music teacher center. window join compare compare last Account there expert expert. window joined compare last Accounts expert. windows join compare first account there Expert. Face American source positive prevent drop entire. Meet her sing sometimes beyond scene land growth. Meet the singer-songwriters who have helped her grow as a person and as an artist. See more of her work at her website and on her YouTube channel, Faces American. Public trial whole write article. Against bit fund quite per. public trial. Public trial whole writing article. against bit fundQuite per.public trial. Againstbit fund quiteper. publictrial. AgainstBit fund quitePer. public Trial. againstBitFundQuitePer. Public Trial. Against BitFundQuiteper. Term rock say education see despite cost. Budget various write live just. term rock say Education Department. Term rock say they see despite. cost. Education Department: \\'Term rock\\' is \\'living just\\' and \\'living in the moment\\' \\'Living just\\' means living in the present, not the past. Sometimes hold body success along with shake generation beautiful. What every artist prove is that they can beat scientist especially. What they prove is they can shake the generation beautiful along with body success. What do you think? Share your thoughts in the comments below or tweet us @CNNOpinion. Sound many minute light difference story. Thus finish behind season series chair. Stop animal over threat accept. Sound many minutes light difference stories. Thus end behind seasonSeries chair. stop animal over threats accept. sound many minute Light Difference story.Sound many minutes Light Difference Story. thus finish behind Season Series chair. Score shake somebody maybe property. Theory let audience manager dream. Always national image analysis. National image analysis is the way to get the most out of a national image. It doesn\\'t matter who you are, the goal is to get people to think about you. You can\\'t win if you don\\'t think about the audience. Senior thank nature south. Ready dinner arm. Senior thank nature north. Ready to go out. Ready for dinner. Senior. Thank nature south, ready to go outsidings south. Senior, thank nature North. Senior Thank nature north, ready for outsidhes south.'"
      ]
     },
     "execution_count": 14,
     "metadata": {},
     "output_type": "execute_result"
    }
   ],
   "source": [
    "# Juntar todos os tópicos em um único texto para a nuvem de palavras\n",
    "all_topics_text = \" \".join(predicted_topics)\n",
    "all_topics_text"
   ]
  },
  {
   "cell_type": "code",
   "execution_count": 17,
   "id": "03eee98f-cdf9-424a-babf-251ae127e7ac",
   "metadata": {},
   "outputs": [
    {
     "name": "stdout",
     "output_type": "stream",
     "text": [
      "Tópico 1: Thousand off operation feel for because. Choice federal chair. Southern song spring wish study star. \"I want to be a singer-songwriter. I want to write a song about my life\" \"I don't know why I'm here. I just want to live my life. I don't want to die.\"\n",
      "==================================================\n",
      "Tópico 2: And show quality stage tell. Like upon wait car attorney eye establish. And show quality of the car. LikeUpon wait car lawyer eye establish, and show quality on the road. And like upon waiting car attorney attorney eye established, and the road ahead. And the road before.\n",
      "==================================================\n",
      "Tópico 3: Baby down page vote. Environment begin main common each race. Baby up page vote for the first time. Baby down page for the second time for the third time. baby up for the fourth time for both candidates. baby down for the fifth time for each candidate. baby on the left for the sixth.\n",
      "==================================================\n",
      "Tópico 4: Much national hear drive. Several race hope of Republican once though give. Many race hope for Republican once again. Much national hearing drive. Some hope for GOP once though. Many hope for Republicans once though giving. Many see Republican once once though as a hope for a change.\n",
      "==================================================\n",
      "Tópico 5: Really across walk walk close. Really across walk spend close. Spend close to each other. Spend time together. Spend more time with your family. Spend a little more time in each other's company. Spend some time together as a family. Share your memories.\n",
      "==================================================\n",
      "Tópico 6: Chair account ever another month could cup. Sense across board decision at. Land purpose state response main certain. Land use is a key part of the land use policy in the UK. Land uses are a key component of the Land Use Policy in the U.S. and other parts of Europe.\n",
      "==================================================\n",
      "Tópico 7: Drop five bad habits of nature. Also lose indeed service. Summer nice record. Drop five bad things of nature, also lose indeedService. Summernice record. drop five bad exactly nature. SummerNice record.drop five bad qualities of nature,. also lose Indeed service. drop Five bad things about nature.\n",
      "==================================================\n",
      "Tópico 8: Color woman structure visit bad often group break. Good want interview same land voice actually. Around because discussion live body attack serve. Good wants interview sameLand voice actually, around because discussion Live body attack serves. Good Want interview same Land Voice actually, Around because Discussion Live Body Attack serve.\n",
      "==================================================\n",
      "Tópico 9: Mrs former before we door letter whom. They woman born. She was born in the UK in the 1950s. She is now in the U.S. and lives in New York City. She has a daughter and a son. They were born in different years. She had a daughter in the 1960s.\n",
      "==================================================\n",
      "Tópico 10: Question development lay front. Question development lays front. Questions about the future of the U.S. economy in the face of the global financial crisis. Questions over the future direction of the country's economic growth. Questions on the future state of the economy in a post-crisis world.\n",
      "==================================================\n",
      "Tópico 11: Performance cost campaign prepare expect ago indeed. Economy PM himself because. Charge culture dinner stage those early. Performance cost campaign prepared expect ago. Economy Prime Minister because. charge culture dinner is a culture dinner dinner stage. Performance costs prepare expect a long time ago. performance cost campaign prepares expect ago very early.\n",
      "==================================================\n",
      "Tópico 12: Network establish where popular wall provide theory. Suddenly of school short according nearly per. Threat art strong candidate to cut hot church through. Network establish where Popular Wall provide theory to determine if wall can be cut through. Threat Art strong candidate cut hot Church through. School short according to nearly per per.\n",
      "==================================================\n",
      "Tópico 13: Ability technology modern your throw as myself system. Young natural paper happy. Democratic nature table miss under toward. Can't throw over to the left. Can only throw to the right. Can not throw over the top of the table. can only throw under the table to the side. Can never throw over it.\n",
      "==================================================\n",
      "Tópico 14: Both thus along such pretty few. Wind newspaper president family three all position. Wind paper president family two all positions. Wind papers president family one all position, newspaper president three all positions, newspaper editor three all Position. Wind newspapers president two all position; newspaper editor two all Position: President.\n",
      "==================================================\n",
      "Tópico 15: Rather win early than lose early, try to win early. Try to win before the end of the year, rather than after. Try not to win too early, rather win too late. Try and win before it's too late, rather then after it. Try. to win.\n",
      "==================================================\n",
      "Tópico 16: Way tough year. Unit modern want any run recognize. Way tough year for team. Unitmodern want anyrun recognize. Team modern don't want any runs recognize. way tough. year. for team modern. Way Tough year. For team modern, don't recognize.Way Tough Year.\n",
      "==================================================\n",
      "Tópico 17: Sport idea either together. Her quickly citizen culture both me deal. Career green nature relationship I growth education anyone. Born different wonder nice. Sport idea either Together. Her quick citizen culture and I grow education anyone together. born different wonderNice nice nice niceNiceNiceNice Nice Nice Nice nice nice.\n",
      "==================================================\n",
      "Tópico 18: Professor student lay. down the law for the first time. He was only eight years old at the time. Now he's in his mid-twenties, and he's still got it all figured out. He's got it down to a science. But he's not quite there yet. It's only eight.\n",
      "==================================================\n",
      "Tópico 19: Surface eat forward protect national box environment financial. Day weight nothing would low capital bag. Site reality reduce probably. Back to Mail Online home. back to the page you came from. Back To the pageYou came from: Back to thepage you came From: Back To The Page You Came From.\n",
      "==================================================\n",
      "Tópico 20: Source attention according to her. Improve here prepare guess me. Source attention according her. improve here. prepare guessme. Source Attention according her, improve here according to me, Improve here. ImproveHere according to herself, Improve Here. Improve Here according to myself.\n",
      "==================================================\n",
      "Tópico 21: Improve agreement continue loss season stop list threat. Occur who letter summer officer. Increase agreement to stop loss season threat to summer officer's job. Improve agreement to keep summer officer on the job through the end of the season. Increase the number of summer officers on the summer officer’s job.\n",
      "==================================================\n",
      "Tópico 22: Senior hot plan always international traditional. Story floor government color resource each major training. Campaign three simple father. Senior hot planAlways internationalTraditional. Storyfloor government colorresource each majorTraining. CampaignThree simpleFather. Campaign Three SimpleFather. Story Floor government colorResource each major Training. Campaign 3 simpleFathers.\n",
      "==================================================\n",
      "Tópico 23: Any money most address crime. Onto design each garden very choice. Do maintain win summer media onto. Any money most addresses crime.Onto designEach garden each choice. OntO design each gardens very choice, do maintain win Summer media onto, and do maintain summer media on.\n",
      "==================================================\n",
      "Tópico 24: Any election four everybody lawyer by. Happy measure often fall. Officer such little. Any election four everyone lawyer by, happy measure often falls. Officer so little. Anyone lawyer by? HappyMeasure often falls, Officer suchlittle. Happy Measure often fall, Officer Such little. Officer Such Little.\n",
      "==================================================\n",
      "Tópico 25: Enjoy may allow pick up window to be cut. Particularly size our. Enjoy may also allow pick prove window cut. particularly size our, and may allow for pick-up window cut in some cases. Enjoy could allow pick-me-up windows to be reduced. Particularly sizes our. and may be available in some areas.\n",
      "==================================================\n",
      "Tópico 26: Phone last learn key. Month on direction city management society environmental. month on direction City management Society environmental. phone last learnKey: 1-800-273-8255 or 1-844-788-7474. Phone last learn Key: 1 -800-724-7484 or 1 -818-722-7255.\n",
      "==================================================\n",
      "Tópico 27: Space throw television. Benefit exactly exactly member issue like kid believe. Space throw TV. Benefits exactly memberissue like kid believes. Space Throw television. Benefits exact exactly member issues like child believe.Space Throw TV. benefits exactly member Issue like kid Believe. Spacethrow television.Benefits exactly member Issues like child Believe.\n",
      "==================================================\n",
      "Tópico 28: Window join compare last account there expert. Again music teacher center a. music teacher. center a music teacher centre a. Music teacher center. window join compare compare last Account there expert expert. window joined compare last Accounts expert. windows join compare first account there Expert.\n",
      "==================================================\n",
      "Tópico 29: Face American source positive prevent drop entire. Meet her sing sometimes beyond scene land growth. Meet the singer-songwriters who have helped her grow as a person and as an artist. See more of her work at her website and on her YouTube channel, Faces American.\n",
      "==================================================\n",
      "Tópico 30: Public trial whole write article. Against bit fund quite per. public trial. Public trial whole writing article. against bit fundQuite per.public trial. Againstbit fund quiteper. publictrial. AgainstBit fund quitePer. public Trial. againstBitFundQuitePer. Public Trial. Against BitFundQuiteper.\n",
      "==================================================\n",
      "Tópico 31: Term rock say education see despite cost. Budget various write live just. term rock say Education Department. Term rock say they see despite. cost. Education Department: 'Term rock' is 'living just' and 'living in the moment' 'Living just' means living in the present, not the past.\n",
      "==================================================\n",
      "Tópico 32: Sometimes hold body success along with shake generation beautiful. What every artist prove is that they can beat scientist especially. What they prove is they can shake the generation beautiful along with body success. What do you think? Share your thoughts in the comments below or tweet us @CNNOpinion.\n",
      "==================================================\n",
      "Tópico 33: Sound many minute light difference story. Thus finish behind season series chair. Stop animal over threat accept. Sound many minutes light difference stories. Thus end behind seasonSeries chair. stop animal over threats accept. sound many minute Light Difference story.Sound many minutes Light Difference Story. thus finish behind Season Series chair.\n",
      "==================================================\n",
      "Tópico 34: Score shake somebody maybe property. Theory let audience manager dream. Always national image analysis. National image analysis is the way to get the most out of a national image. It doesn't matter who you are, the goal is to get people to think about you. You can't win if you don't think about the audience.\n",
      "==================================================\n",
      "Tópico 35: Senior thank nature south. Ready dinner arm. Senior thank nature north. Ready to go out. Ready for dinner. Senior. Thank nature south, ready to go outsidings south. Senior, thank nature North. Senior Thank nature north, ready for outsidhes south.\n",
      "==================================================\n"
     ]
    }
   ],
   "source": [
    "# Mostrar os resultados\n",
    "for i, topic in enumerate(predicted_topics):\n",
    "    print(f\"Tópico {i+1}: {topic}\")\n",
    "    print(\"=\"*50)"
   ]
  },
  {
   "cell_type": "code",
   "execution_count": 47,
   "id": "534f6722-ed9e-41cf-9ee6-0600b1e2ec79",
   "metadata": {},
   "outputs": [
    {
     "name": "stderr",
     "output_type": "stream",
     "text": [
      "Some weights of the model checkpoint at facebook/bart-large-cnn were not used when initializing BartForCausalLM: ['model.encoder.layers.1.final_layer_norm.weight', 'model.encoder.layers.0.self_attn.out_proj.weight', 'model.encoder.layers.0.self_attn_layer_norm.weight', 'model.encoder.layers.11.self_attn.q_proj.weight', 'model.encoder.layers.2.final_layer_norm.weight', 'model.encoder.layers.8.final_layer_norm.weight', 'model.encoder.layers.10.self_attn.k_proj.bias', 'model.encoder.layers.11.fc1.bias', 'model.encoder.layers.2.self_attn.v_proj.bias', 'model.encoder.layers.7.self_attn_layer_norm.weight', 'model.encoder.layers.2.fc2.weight', 'model.encoder.layers.5.self_attn.v_proj.weight', 'model.encoder.layers.4.fc2.weight', 'model.encoder.embed_tokens.weight', 'model.encoder.layers.8.final_layer_norm.bias', 'model.encoder.layers.1.self_attn.out_proj.weight', 'model.encoder.layers.7.self_attn.k_proj.bias', 'model.encoder.layers.9.final_layer_norm.bias', 'model.encoder.layers.11.fc2.weight', 'model.encoder.layers.5.self_attn.out_proj.weight', 'model.encoder.layers.8.self_attn.v_proj.bias', 'model.encoder.layers.5.fc1.weight', 'model.encoder.layers.8.self_attn.out_proj.bias', 'model.encoder.layers.5.fc2.bias', 'model.encoder.layers.10.self_attn_layer_norm.bias', 'model.encoder.layers.5.self_attn_layer_norm.bias', 'model.encoder.layers.7.self_attn.out_proj.weight', 'model.encoder.layers.4.self_attn.v_proj.bias', 'model.encoder.layers.10.fc2.weight', 'model.encoder.layers.6.self_attn_layer_norm.bias', 'model.encoder.layers.0.self_attn.k_proj.bias', 'model.encoder.layers.6.final_layer_norm.weight', 'model.encoder.layers.10.fc2.bias', 'model.encoder.layers.8.self_attn.k_proj.bias', 'model.encoder.layers.3.fc2.bias', 'model.encoder.layers.8.fc1.bias', 'model.encoder.layers.3.self_attn.q_proj.bias', 'model.encoder.layers.2.self_attn.q_proj.bias', 'model.encoder.layers.1.fc1.bias', 'model.encoder.layers.0.final_layer_norm.bias', 'model.encoder.layers.9.self_attn.out_proj.bias', 'model.encoder.layers.6.self_attn.v_proj.weight', 'model.encoder.layers.9.self_attn.out_proj.weight', 'model.encoder.layers.3.fc1.weight', 'model.encoder.layers.4.self_attn.q_proj.weight', 'model.encoder.layers.4.self_attn.out_proj.bias', 'model.encoder.layers.7.self_attn.out_proj.bias', 'model.encoder.layers.8.self_attn.out_proj.weight', 'model.encoder.layers.9.final_layer_norm.weight', 'model.encoder.layers.7.fc1.weight', 'model.encoder.layers.5.fc1.bias', 'model.encoder.layers.2.self_attn.k_proj.bias', 'model.encoder.layers.3.self_attn.v_proj.bias', 'model.encoder.layers.5.final_layer_norm.weight', 'model.encoder.layers.1.self_attn.v_proj.bias', 'model.encoder.layers.6.self_attn.out_proj.bias', 'model.encoder.layers.10.self_attn.v_proj.weight', 'model.encoder.layers.7.fc2.weight', 'model.encoder.layers.11.self_attn.out_proj.weight', 'model.encoder.layers.1.self_attn.k_proj.bias', 'model.encoder.layers.6.final_layer_norm.bias', 'model.encoder.layers.6.self_attn_layer_norm.weight', 'model.encoder.layers.8.fc2.bias', 'model.encoder.layernorm_embedding.bias', 'model.encoder.layers.9.self_attn_layer_norm.bias', 'model.encoder.layers.1.self_attn.k_proj.weight', 'model.encoder.layers.0.fc2.weight', 'model.encoder.layers.10.self_attn.q_proj.weight', 'model.encoder.layers.3.self_attn.q_proj.weight', 'model.encoder.layers.4.self_attn.v_proj.weight', 'model.encoder.layers.8.self_attn.k_proj.weight', 'model.encoder.layers.9.self_attn_layer_norm.weight', 'model.encoder.layers.7.self_attn.v_proj.bias', 'model.encoder.embed_positions.weight', 'model.encoder.layers.5.self_attn.q_proj.weight', 'model.encoder.layers.4.fc1.weight', 'model.encoder.layers.7.fc2.bias', 'model.encoder.layers.0.final_layer_norm.weight', 'model.encoder.layers.2.self_attn.v_proj.weight', 'model.encoder.layers.2.self_attn.out_proj.bias', 'model.encoder.layers.3.final_layer_norm.weight', 'model.encoder.layers.5.self_attn.q_proj.bias', 'model.encoder.layers.10.self_attn.v_proj.bias', 'model.encoder.layers.7.self_attn_layer_norm.bias', 'model.encoder.layers.7.self_attn.v_proj.weight', 'model.encoder.layers.7.fc1.bias', 'model.encoder.layers.0.self_attn.q_proj.bias', 'model.encoder.layers.4.fc2.bias', 'model.encoder.layers.11.self_attn_layer_norm.bias', 'model.encoder.layers.11.self_attn.v_proj.bias', 'model.encoder.layers.10.fc1.bias', 'model.encoder.layers.2.self_attn_layer_norm.bias', 'model.encoder.layers.2.fc1.weight', 'model.encoder.layers.5.self_attn.k_proj.weight', 'model.shared.weight', 'model.encoder.layers.1.fc2.weight', 'model.encoder.layers.0.self_attn.v_proj.weight', 'model.encoder.layers.4.fc1.bias', 'model.encoder.layers.1.self_attn_layer_norm.weight', 'model.encoder.layers.8.fc2.weight', 'model.encoder.layers.1.final_layer_norm.bias', 'model.encoder.layers.10.final_layer_norm.bias', 'model.encoder.layers.4.self_attn.k_proj.weight', 'model.encoder.layers.0.fc2.bias', 'model.encoder.layers.5.self_attn.k_proj.bias', 'model.encoder.layers.3.fc1.bias', 'model.encoder.layers.8.self_attn.q_proj.weight', 'model.encoder.layers.0.self_attn.q_proj.weight', 'model.encoder.layers.3.self_attn_layer_norm.weight', 'model.encoder.layers.2.fc2.bias', 'model.encoder.layers.1.self_attn.v_proj.weight', 'model.encoder.layers.1.self_attn.q_proj.bias', 'model.encoder.layers.9.self_attn.v_proj.bias', 'model.encoder.layers.9.self_attn.k_proj.weight', 'model.encoder.layers.0.self_attn.k_proj.weight', 'model.encoder.layers.7.self_attn.k_proj.weight', 'model.encoder.layers.3.self_attn_layer_norm.bias', 'model.encoder.layers.3.final_layer_norm.bias', 'model.encoder.layers.9.fc2.weight', 'model.encoder.layers.10.self_attn.q_proj.bias', 'model.encoder.layers.1.fc1.weight', 'model.encoder.layers.8.fc1.weight', 'model.encoder.layers.7.final_layer_norm.weight', 'model.encoder.layers.8.self_attn_layer_norm.weight', 'model.encoder.layers.3.self_attn.out_proj.weight', 'model.encoder.layers.3.self_attn.out_proj.bias', 'model.encoder.layers.1.fc2.bias', 'model.encoder.layers.2.self_attn.k_proj.weight', 'model.encoder.layers.5.fc2.weight', 'model.encoder.layers.9.self_attn.q_proj.bias', 'model.encoder.layers.11.self_attn.out_proj.bias', 'model.encoder.layers.7.self_attn.q_proj.weight', 'model.encoder.layers.11.self_attn.k_proj.weight', 'model.encoder.layers.6.fc1.bias', 'model.encoder.layers.1.self_attn.out_proj.bias', 'model.encoder.layers.4.final_layer_norm.bias', 'model.encoder.layers.7.final_layer_norm.bias', 'model.encoder.layers.9.fc1.weight', 'model.encoder.layers.3.self_attn.k_proj.bias', 'model.encoder.layers.0.fc1.weight', 'model.encoder.layers.3.self_attn.v_proj.weight', 'model.encoder.layers.5.self_attn_layer_norm.weight', 'model.encoder.layers.0.fc1.bias', 'model.encoder.layers.10.self_attn.out_proj.bias', 'model.encoder.layers.2.final_layer_norm.bias', 'model.encoder.layers.9.fc1.bias', 'model.encoder.layers.6.self_attn.q_proj.weight', 'model.encoder.layers.4.final_layer_norm.weight', 'model.encoder.layers.11.fc1.weight', 'model.encoder.layers.6.fc1.weight', 'model.encoder.layers.2.self_attn_layer_norm.weight', 'model.encoder.layers.6.self_attn.k_proj.weight', 'model.encoder.layers.6.self_attn.k_proj.bias', 'model.encoder.layers.1.self_attn_layer_norm.bias', 'model.encoder.layers.10.self_attn_layer_norm.weight', 'model.encoder.layers.7.self_attn.q_proj.bias', 'model.encoder.layers.3.fc2.weight', 'model.encoder.layers.4.self_attn.out_proj.weight', 'model.encoder.layernorm_embedding.weight', 'model.encoder.layers.11.fc2.bias', 'model.encoder.layers.3.self_attn.k_proj.weight', 'model.encoder.layers.11.self_attn.k_proj.bias', 'model.encoder.layers.9.fc2.bias', 'model.encoder.layers.0.self_attn.v_proj.bias', 'model.encoder.layers.6.fc2.weight', 'model.encoder.layers.8.self_attn.v_proj.weight', 'model.encoder.layers.2.fc1.bias', 'model.encoder.layers.4.self_attn_layer_norm.weight', 'model.encoder.layers.4.self_attn.k_proj.bias', 'model.encoder.layers.11.final_layer_norm.weight', 'model.encoder.layers.2.self_attn.q_proj.weight', 'model.encoder.layers.11.final_layer_norm.bias', 'model.encoder.layers.6.fc2.bias', 'model.encoder.layers.6.self_attn.out_proj.weight', 'model.encoder.layers.1.self_attn.q_proj.weight', 'model.encoder.layers.5.self_attn.v_proj.bias', 'model.encoder.layers.8.self_attn_layer_norm.bias', 'model.encoder.layers.10.self_attn.out_proj.weight', 'model.encoder.layers.9.self_attn.q_proj.weight', 'model.encoder.layers.2.self_attn.out_proj.weight', 'model.encoder.layers.4.self_attn_layer_norm.bias', 'model.encoder.layers.0.self_attn.out_proj.bias', 'model.encoder.layers.5.final_layer_norm.bias', 'model.encoder.layers.10.final_layer_norm.weight', 'model.encoder.layers.11.self_attn.v_proj.weight', 'model.encoder.layers.5.self_attn.out_proj.bias', 'model.encoder.layers.11.self_attn_layer_norm.weight', 'model.encoder.layers.9.self_attn.v_proj.weight', 'model.encoder.layers.6.self_attn.v_proj.bias', 'model.encoder.layers.11.self_attn.q_proj.bias', 'model.encoder.layers.10.self_attn.k_proj.weight', 'model.encoder.layers.0.self_attn_layer_norm.bias', 'model.encoder.layers.9.self_attn.k_proj.bias', 'model.encoder.layers.10.fc1.weight', 'model.encoder.layers.8.self_attn.q_proj.bias', 'model.encoder.layers.4.self_attn.q_proj.bias', 'model.encoder.layers.6.self_attn.q_proj.bias']\n",
      "- This IS expected if you are initializing BartForCausalLM from the checkpoint of a model trained on another task or with another architecture (e.g. initializing a BertForSequenceClassification model from a BertForPreTraining model).\n",
      "- This IS NOT expected if you are initializing BartForCausalLM from the checkpoint of a model that you expect to be exactly identical (initializing a BertForSequenceClassification model from a BertForSequenceClassification model).\n"
     ]
    },
    {
     "name": "stdout",
     "output_type": "stream",
     "text": [
      "Modelo BART foi salvo com sucesso.\n"
     ]
    }
   ],
   "source": [
    "from transformers import BartTokenizer, BartForCausalLM\n",
    "\n",
    "# Carregar o modelo pré-treinado e o tokenizador\n",
    "model_name = \"facebook/bart-large-cnn\"\n",
    "tokenizer = BartTokenizer.from_pretrained(model_name)\n",
    "model = BartForCausalLM.from_pretrained(model_name)\n",
    "\n",
    "# Treinar o modelo ou realizar outras operações\n",
    "# Salvar o modelo e o tokenizador em um diretório específico\n",
    "output_dir = \"modelo_1\"\n",
    "model.save_pretrained(output_dir)\n",
    "tokenizer.save_pretrained(output_dir)\n",
    "\n",
    "print(\"Modelo BART foi salvo com sucesso.\")"
   ]
  },
  {
   "cell_type": "markdown",
   "id": "d38b3a9d-72da-4fdc-b0e9-2039f9a8c9c0",
   "metadata": {},
   "source": [
    "# Palavras chaves com - Bart"
   ]
  },
  {
   "cell_type": "code",
   "execution_count": 18,
   "id": "b01fca6a-4153-497c-9750-f1a20f7a8146",
   "metadata": {},
   "outputs": [],
   "source": [
    "# Carregar o modelo pré-treinado e o tokenizador\n",
    "model_name = \"facebook/bart-large-cnn\""
   ]
  },
  {
   "cell_type": "code",
   "execution_count": 19,
   "id": "60aa90a0-e59e-42af-a143-604364b89f9e",
   "metadata": {},
   "outputs": [],
   "source": [
    "# Tokenização dados\n",
    "tokenizer = BartTokenizer.from_pretrained(model_name)"
   ]
  },
  {
   "cell_type": "code",
   "execution_count": 20,
   "id": "28ab2b52-a0bf-4003-8e70-20fe15296d89",
   "metadata": {},
   "outputs": [
    {
     "name": "stdout",
     "output_type": "stream",
     "text": [
      "CPU times: total: 1.23 s\n",
      "Wall time: 3.37 s\n"
     ]
    },
    {
     "data": {
      "text/plain": [
       "BartForConditionalGeneration(\n",
       "  (model): BartModel(\n",
       "    (shared): Embedding(50264, 1024, padding_idx=1)\n",
       "    (encoder): BartEncoder(\n",
       "      (embed_tokens): Embedding(50264, 1024, padding_idx=1)\n",
       "      (embed_positions): BartLearnedPositionalEmbedding(1026, 1024)\n",
       "      (layers): ModuleList(\n",
       "        (0-11): 12 x BartEncoderLayer(\n",
       "          (self_attn): BartAttention(\n",
       "            (k_proj): Linear(in_features=1024, out_features=1024, bias=True)\n",
       "            (v_proj): Linear(in_features=1024, out_features=1024, bias=True)\n",
       "            (q_proj): Linear(in_features=1024, out_features=1024, bias=True)\n",
       "            (out_proj): Linear(in_features=1024, out_features=1024, bias=True)\n",
       "          )\n",
       "          (self_attn_layer_norm): LayerNorm((1024,), eps=1e-05, elementwise_affine=True)\n",
       "          (activation_fn): GELUActivation()\n",
       "          (fc1): Linear(in_features=1024, out_features=4096, bias=True)\n",
       "          (fc2): Linear(in_features=4096, out_features=1024, bias=True)\n",
       "          (final_layer_norm): LayerNorm((1024,), eps=1e-05, elementwise_affine=True)\n",
       "        )\n",
       "      )\n",
       "      (layernorm_embedding): LayerNorm((1024,), eps=1e-05, elementwise_affine=True)\n",
       "    )\n",
       "    (decoder): BartDecoder(\n",
       "      (embed_tokens): Embedding(50264, 1024, padding_idx=1)\n",
       "      (embed_positions): BartLearnedPositionalEmbedding(1026, 1024)\n",
       "      (layers): ModuleList(\n",
       "        (0-11): 12 x BartDecoderLayer(\n",
       "          (self_attn): BartAttention(\n",
       "            (k_proj): Linear(in_features=1024, out_features=1024, bias=True)\n",
       "            (v_proj): Linear(in_features=1024, out_features=1024, bias=True)\n",
       "            (q_proj): Linear(in_features=1024, out_features=1024, bias=True)\n",
       "            (out_proj): Linear(in_features=1024, out_features=1024, bias=True)\n",
       "          )\n",
       "          (activation_fn): GELUActivation()\n",
       "          (self_attn_layer_norm): LayerNorm((1024,), eps=1e-05, elementwise_affine=True)\n",
       "          (encoder_attn): BartAttention(\n",
       "            (k_proj): Linear(in_features=1024, out_features=1024, bias=True)\n",
       "            (v_proj): Linear(in_features=1024, out_features=1024, bias=True)\n",
       "            (q_proj): Linear(in_features=1024, out_features=1024, bias=True)\n",
       "            (out_proj): Linear(in_features=1024, out_features=1024, bias=True)\n",
       "          )\n",
       "          (encoder_attn_layer_norm): LayerNorm((1024,), eps=1e-05, elementwise_affine=True)\n",
       "          (fc1): Linear(in_features=1024, out_features=4096, bias=True)\n",
       "          (fc2): Linear(in_features=4096, out_features=1024, bias=True)\n",
       "          (final_layer_norm): LayerNorm((1024,), eps=1e-05, elementwise_affine=True)\n",
       "        )\n",
       "      )\n",
       "      (layernorm_embedding): LayerNorm((1024,), eps=1e-05, elementwise_affine=True)\n",
       "    )\n",
       "  )\n",
       "  (lm_head): Linear(in_features=1024, out_features=50264, bias=False)\n",
       ")"
      ]
     },
     "execution_count": 20,
     "metadata": {},
     "output_type": "execute_result"
    }
   ],
   "source": [
    "%%time\n",
    "\n",
    "# Modelo\n",
    "model = BartForConditionalGeneration.from_pretrained(model_name)\n",
    "model"
   ]
  },
  {
   "cell_type": "code",
   "execution_count": 21,
   "id": "99119743-93b7-4ff6-9fb9-3c53274bdf14",
   "metadata": {},
   "outputs": [],
   "source": [
    "# Acessar a coluna \"text\" do dataset com os textos gerados\n",
    "texts = dataset[\"train\"][\"text\"]"
   ]
  },
  {
   "cell_type": "code",
   "execution_count": 22,
   "id": "d1db1195-f949-400d-84d2-e718197996cb",
   "metadata": {},
   "outputs": [],
   "source": [
    "# Função para gerar resumo com diversidade usando top-k sampling\n",
    "def generate_summary_with_diversity(text, max_length=100, temperature=0.8):\n",
    "    # Codificar o texto para entrada no modelo\n",
    "    inputs = tokenizer([text], return_tensors=\"pt\", padding=True, truncation=True)\n",
    "\n",
    "    # Realizar a inferência para gerar um resumo do texto com diversidade (top-k sampling)\n",
    "    with torch.no_grad():\n",
    "        output = model.generate(\n",
    "            inputs.input_ids,\n",
    "            max_length=max_length,\n",
    "            do_sample=True,\n",
    "            temperature=temperature\n",
    "        )\n",
    "\n",
    "    # Decodificar o resumo gerado\n",
    "    summary = tokenizer.decode(output[0], skip_special_tokens=True)\n",
    "\n",
    "    return summary"
   ]
  },
  {
   "cell_type": "code",
   "execution_count": 23,
   "id": "d91210d7-1419-46c0-a672-2b6ebf270cab",
   "metadata": {},
   "outputs": [
    {
     "name": "stdout",
     "output_type": "stream",
     "text": [
      "Texto gerado:\n",
      "Thousand off operation feel for because. Choice federal chair. Southern song spring wish study star.\n",
      "Resumo:\n",
      "Thousand off operation feel for because. Choice federal chair. Southern song spring wish study star. \"I want to be a doctor. I want to help people. I don't want to hurt people,\" she said. \"That's what I do. I help people.\"\n",
      "=====\n",
      "Texto gerado:\n",
      "And show quality stage tell. Like upon wait car attorney eye establish.\n",
      "Resumo:\n",
      "And show quality stage tell. Like upon wait car attorney eye establish. LikeUpon wait car lawyer eye establish, like upon wait vehicle attorney eye established. And show qualitystage tell. like upon waiting car attorneyEye establish. and like uponWait Vehicle Attorney Eye establish. And like upon Wait Vehicle AttorneyEye establish, Like upon Wait Car AttorneyEye established.\n",
      "=====\n",
      "Texto gerado:\n",
      "Baby down page vote. Environment begin main common each race.\n",
      "Resumo:\n",
      "Baby down page vote. Environment begin main common each race. Baby up page vote for each candidate. Baby down page for each Candidate.Baby up page for both candidates. Baby on top page for all candidates.Baby on bottom page for every candidate. baby on top for every race.\n",
      "=====\n",
      "Texto gerado:\n",
      "Much national hear drive. Several race hope of Republican once though give.\n",
      "Resumo:\n",
      "Much national hear drive. Several race hope of Republican once though give. Many race hope for Republican onceThough give. Some race hope to be Republican once again. Some hope for GOP once though will give. Others hope for Democratic once though may give. They hope for both.\n",
      "=====\n",
      "Texto gerado:\n",
      "Really across walk spend close.\n",
      "Resumo:\n",
      "Really across walk close. Really across walk spend close. really across walk walk close to each other.really across walk near each other across the walkway.Really across. walk across walk across the Walkway and spend close to one another. Really. across.\n",
      "=====\n",
      "Texto gerado:\n",
      "Chair account ever another month could cup. Sense across board decision at. Land purpose state response main certain.\n",
      "Resumo:\n",
      "Chair account ever another month could cup. Sense across board decision at Land purpose state response main certain. Land purposeState response main response certain. Chairman account ever other month couldcup. SenseAcrossBoard decision at. Land Purpose State response maincertain. LandpurposeState response at.\n",
      "=====\n",
      "Texto gerado:\n",
      "Drop five bad exactly nature. Also lose indeed service. Summer nice record.\n",
      "Resumo:\n",
      "Drop five bad things about summer. Also lose indeed service. Summer nice record. Drop five bad exactly nature. Summernice record. drop five badactly nature. drop four bad exactlynature. drop three bad exactly service. drop two bad exactly services. drop one bad service.\n",
      "=====\n",
      "Texto gerado:\n",
      "Color woman structure visit bad often group break. Good want interview same land voice actually. Around because discussion live body attack serve.\n",
      "Resumo:\n",
      "Color woman structure visit bad often group break. Good want interview same land voice actually. Around because discussion live body attack serve. Good wants interview sameLand voice actually around because discussion Live body attack service. Good Want interview same Land Voice actually. Good don't want to talk about themselves.\n",
      "=====\n",
      "Texto gerado:\n",
      "Mrs former before we door letter whom. They woman born.\n",
      "Resumo:\n",
      "Mrs former before we door letter whom. They woman born. Mrs former before they door letter who. They women born. The woman born before wedoor letter whom, they woman born, the woman born and the woman living. The women born before. we door door whom.\n",
      "=====\n",
      "Texto gerado:\n",
      "Question development lay front.\n",
      "Resumo:\n",
      "Question development lay front. Question development lays front. Questions over the future of the U.S. economy. Questions about the future direction of the country. Questions on the future state of the economy in the United States. Questions and answers about the development of the nation.\n",
      "=====\n",
      "Texto gerado:\n",
      "Performance cost campaign prepare expect ago indeed. Economy PM himself because. Charge culture dinner stage those early.\n",
      "Resumo:\n",
      "Performance cost campaign prepare expect ago indeed. Economy PM himself because. Charge culture dinner stage those early. Performance cost campaign prepared expect ago very. Economy Prime Minister because. charge culture dinner dinner stagethose early.performance cost campaign preparing expect agoIndeed. Economy Economy PM because.\n",
      "=====\n",
      "Texto gerado:\n",
      "Network establish where popular wall provide theory. Suddenly of school short according nearly per. Threat art strong candidate cut hot church through.\n",
      "Resumo:\n",
      "Network establish where popular wall provide theory. Suddenly of school short according nearly per. Threat art strong candidate cut hot church through. Network establish wherepopular wall provide Theory. Suddenly Of School short according to nearly per school short. Threat Art strong candidate to cut hot Church through.\n",
      "=====\n",
      "Texto gerado:\n",
      "Ability technology modern your throw as myself system. Young natural paper happy. Democratic nature table miss under toward.\n",
      "Resumo:\n",
      "Ability technology modern your throw as myself system. Young natural paper happy. Democratic nature table miss under toward. Ability technology modernyour throw as me system. young natural paperHappy. Democraticnature table miss over toward. ability technology modernYour throw as yourself system.young natural paper Happy.\n",
      "=====\n",
      "Texto gerado:\n",
      "Both thus along such pretty few. Wind newspaper president family three all position.\n",
      "Resumo:\n",
      "Both thus along such pretty few. Wind newspaper president family three all position. Wind paper president family two all positions. Wind newspapers president family one all position, Wind newspaper editor three all positions, and so on. Wind papers president family four all position,. Wind newspapers editor two all position; Wind newspaper CEO three all Position.\n",
      "=====\n",
      "Texto gerado:\n",
      "Rather win require early.\n",
      "Resumo:\n",
      "Rather win than lose, try to win early. Try to get the job done early, rather than get it done later. Try not to get into trouble early. Do not get in trouble early, do not get involved early. Don't get involved too late. Try and get to know your neighbors early.\n",
      "=====\n",
      "Texto gerado:\n",
      "Way tough year. Unit modern want any run recognize.\n",
      "Resumo:\n",
      "Way tough year. Unit modern want any run recognize. But they're going to have to deal with it for the rest of the season. It's going to be a long, tough year for them. They're not going to take it lying down. They'll have to do it.\n",
      "=====\n",
      "Texto gerado:\n",
      "Sport idea either together. Her quickly citizen culture both me deal. Career green nature relationship I growth education anyone. Born different wonder nice.\n",
      "Resumo:\n",
      "Sport idea either together. Career green nature relationship I growth education anyone. Born different wonder nice. Her quickly citizen culture both me deal. Sport idea eithertogether. CareerGreen nature relationship. I growth Education anyone. born different wondernice. Sport ideas either together or both.\n",
      "=====\n",
      "Texto gerado:\n",
      "Professor student lay. Clear live you performance only eight.\n",
      "Resumo:\n",
      "Professor student lay. down the law. Only eight students were allowed to sit in on the class. The students were given a total of eight hours of class time to complete their assignments. They were not allowed to take any of the class time off. They had to complete the class in one hour.\n",
      "=====\n",
      "Texto gerado:\n",
      "Surface eat forward protect national box environment financial. Day weight nothing would low capital bag. Site reality reduce probably.\n",
      "Resumo:\n",
      "Surface eat forward protect national box environment financial. Day weight nothing would low capital bag. Site reality reduce probably. Site will be used to build a new national park in the future. Site to be built on the site of a former mining site in the South West.\n",
      "=====\n",
      "Texto gerado:\n",
      "Source attention according her. Improve here prepare guess me.\n",
      "Resumo:\n",
      "Source attention according to her. Improve here prepare guess me. Source attention according her. improve here prepare Guess Me. Source Attention according her Improve Here According to Her. Improve Here according to She. improve Here According To She. Improve She According To Her. She Says:\n",
      "=====\n",
      "Texto gerado:\n",
      "Improve agreement continue loss season stop list threat. Occur who letter summer officer.\n",
      "Resumo:\n",
      "Improve agreement continue loss season stop list threat. Occur who letter summer officer. Do you know who is on the list? If so, please contact us at tips@dailymail.co.uk. If not, please email jennifer.smith@mailonline.com.\n",
      "=====\n",
      "Texto gerado:\n",
      "Senior hot plan always international traditional. Story floor government color resource each major training. Campaign three simple father.\n",
      "Resumo:\n",
      "Senior hot plan always international traditional. Story floor government color resource each major training. Campaign three simple father. Senior hot plan is always internationalTraditional. Storyfloor government colorresource each majorTraining. CampaignThree simple father is an international traditional campaign. Campaign Three Simple Father is a national campaign.\n",
      "=====\n",
      "Texto gerado:\n",
      "Any money most address crime. Onto design each garden very choice. Do maintain win summer media onto.\n",
      "Resumo:\n",
      "Any money most address crime. Onto design each garden very choice. Do maintain win summer media onto. Do maintenance win summerMedia onto. do maintain. win summer Media onto. did maintain. do maintenance. Do maintaining win summermedia onto. does maintain. does maintenance.\n",
      "=====\n",
      "Texto gerado:\n",
      "Any election four everybody lawyer by. Happy measure often fall. Officer such little.\n",
      "Resumo:\n",
      "Any election four everybody lawyer by. Happy measure often fall. Officer such little. Any election four everyone lawyer by, happy measure often falls. Officer so little. Anyone lawyer by? Happy measure always fall. Anyone officer so little? Officer suchlittle. Anyone policeman so little fall.\n",
      "=====\n",
      "Texto gerado:\n",
      "Enjoy may allow pick prove window cut. Particularly size our.\n",
      "Resumo:\n",
      "Enjoy may allow pick up window cut. Particularly size our. Enjoy may allow picked up window to be cut. particularly size our, but it may not allow pick-up window cuts. For more information, go to www.cnn.com/en-US.\n",
      "=====\n",
      "Texto gerado:\n",
      "Phone last learn key. Month on direction city management society environmental.\n",
      "Resumo:\n",
      "Phone last learn key. Month on direction city management society environmental. month on direction. city managementsociety environmental.month on direction City of London. month. on directionCity of London environmental. monthly on direction, September to November. month of direction, October to December.\n",
      "=====\n",
      "Texto gerado:\n",
      "Space throw television. Benefit exactly member issue like kid believe.\n",
      "Resumo:\n",
      "Space throw television. Benefit exactly exactly member issue like kid believe. Space throw TV. benefit exactly memberissue like kid believes. Space Throw television. Benefits exactly member issues like child believe.Space Throw TV.benefit exactly member Issue like kid Believe. Spacethrow television. benefit exact member issue.\n",
      "=====\n",
      "Texto gerado:\n",
      "Window join compare last account there expert. Again music teacher center a.\n",
      "Resumo:\n",
      "Window join compare last account there expert. Again music teacher center a. window join compare next account there Expert. again music teacher centre a. Window join compare previous account there. Expert. on how to get the most out of your music teacher’s lesson plan.\n",
      "=====\n",
      "Texto gerado:\n",
      "Face American source positive prevent drop entire. Meet her sing sometimes beyond scene land growth.\n",
      "Resumo:\n",
      "Face American source positive prevent drop entire. Meet her sing sometimes beyond scene land growth. Meet the singer-songwriter-producer-turned-musician-in-residence-to-be. See more of her work at her website and Facebook page, Faces American.\n",
      "=====\n",
      "Texto gerado:\n",
      "Public trial whole write article. Against bit fund quite per.\n",
      "Resumo:\n",
      "Public trial whole write article. Against bit fund quite per. public trial. Public trial whole writing article. against bit fundQuite per.public trial. Againstbit fund quitePer. public Trial. AgainstBit fund quiteper. publictrial. againstbit fundQuitePer.\n",
      "=====\n",
      "Texto gerado:\n",
      "Term rock say education see despite cost. Budget various write live just.\n",
      "Resumo:\n",
      "Term rock say education see despite cost. Budget various write live just. 'I am not a teacher, I am a teacher' says one teacher. 'We are all in this together' says another. 'There is no one right way to do it' says teacher.\n",
      "=====\n",
      "Texto gerado:\n",
      "Sometimes hold body success along shake generation beautiful. What every artist prove beat scientist especially.\n",
      "Resumo:\n",
      "Sometimes hold body success along with shake generation beautiful. What every artist prove beat scientist especially. What each artist prove prove beat scientists especially. Do you have a personal essay to share with the world? Submit at CNN iReport. We would like to hear from you. Please send it to: jennifer.smith@mailonline.com.\n",
      "=====\n",
      "Texto gerado:\n",
      "Sound many minute light difference story. Thus finish behind season series chair. Stop animal over threat accept.\n",
      "Resumo:\n",
      "Sound many minute light difference story. Thus finish behind season series chair. Stop animal over threat accept. Sound many minute Light Difference story. thus finish behind series series chair, Thus finish ahead of season series director. StopAnimal over Threat accept. sound many minuteLight Difference Story.\n",
      "=====\n",
      "Texto gerado:\n",
      "Score shake somebody maybe property. Theory let audience manager dream. Always national image analysis.\n",
      "Resumo:\n",
      "Score shake somebody maybe property. Theory let audience manager dream. Always national image analysis. Always a good time to be a national image analyst. Never a bad time to work with an audience manager. always a great time to learn from each other. always good to work together.\n",
      "=====\n",
      "Texto gerado:\n",
      "Senior thank nature south. Ready dinner arm.\n",
      "Resumo:\n",
      "Senior thank nature south. Ready dinner arm. Senior thank nature South. Ready lunch arm. Junior thank nature north. Senior thanks nature north for senior thank nature North. Senior thanked nature south for junior thank natureNorth for juniorthank nature North for Juniorthank nature South for Junior.\n",
      "=====\n"
     ]
    }
   ],
   "source": [
    "# Resumir os textos gerados com diversidade\n",
    "for text in texts:\n",
    "    summary = generate_summary_with_diversity(text, temperature=0.8)\n",
    "    print(\"Texto gerado:\")\n",
    "    print(text)\n",
    "    print(\"Resumo:\")\n",
    "    print(summary)\n",
    "    print(\"=\" * 5)"
   ]
  },
  {
   "cell_type": "code",
   "execution_count": 27,
   "id": "094dbc03-2140-43f6-b4bc-bf997a178cf1",
   "metadata": {},
   "outputs": [
    {
     "name": "stderr",
     "output_type": "stream",
     "text": [
      "[nltk_data] Downloading package punkt to\n",
      "[nltk_data]     C:\\Users\\rafae\\AppData\\Roaming\\nltk_data...\n",
      "[nltk_data]   Package punkt is already up-to-date!\n",
      "[nltk_data] Downloading package stopwords to\n",
      "[nltk_data]     C:\\Users\\rafae\\AppData\\Roaming\\nltk_data...\n",
      "[nltk_data]   Package stopwords is already up-to-date!\n"
     ]
    }
   ],
   "source": [
    "# Definir as stop words para o idioma inglês\n",
    "import nltk\n",
    "from nltk.corpus import stopwords\n",
    "from nltk.tokenize import word_tokenize\n",
    "from collections import Counter\n",
    "\n",
    "# Download dos recursos necessários do NLTK (apenas na primeira execução)\n",
    "nltk.download(\"punkt\")\n",
    "nltk.download(\"stopwords\")\n",
    "stop_words = set(stopwords.words(\"english\"))\n",
    "\n",
    "# Acessar a coluna \"text\" do dataset com os textos gerados\n",
    "texts = dataset[\"train\"][\"text\"]\n",
    "\n",
    "# Lista para armazenar os resultados\n",
    "results = []\n",
    "\n",
    "# Função para gerar resumo com diversidade usando top-k sampling\n",
    "def generate_summary_with_diversity(text, max_length=100, temperature=0.8):\n",
    "    # Codificar o texto para entrada no modelo\n",
    "    inputs = tokenizer([text], return_tensors=\"pt\", padding=True, truncation=True)\n",
    "\n",
    "    # Realizar a inferência para gerar um resumo do texto com diversidade (top-k sampling)\n",
    "    with torch.no_grad():\n",
    "        output = model.generate(\n",
    "            inputs.input_ids,\n",
    "            max_length=max_length,\n",
    "            do_sample=True,\n",
    "            temperature=temperature\n",
    "        )\n",
    "\n",
    "    # Decodificar o resumo gerado\n",
    "    summary = tokenizer.decode(output[0], skip_special_tokens=True)\n",
    "\n",
    "    return summary\n",
    "\n",
    "# Resumir os textos gerados com diversidade e armazenar os resultados\n",
    "for text in texts:\n",
    "    summary = generate_summary_with_diversity(text, temperature=0.8)\n",
    "    results.append({\"Texto Gerado\": text, \"Resumo\": summary})"
   ]
  },
  {
   "cell_type": "markdown",
   "id": "504511e5-65ec-4cca-a7fa-7a267581bd7f",
   "metadata": {},
   "source": [
    "## Salvando o resultados"
   ]
  },
  {
   "cell_type": "code",
   "execution_count": 28,
   "id": "6c6d9dda-3acf-4394-8fa5-d866edca325d",
   "metadata": {},
   "outputs": [],
   "source": [
    "import pandas\n",
    "import pandas as pd\n",
    "\n",
    "# Criar DataFrame com os resultados\n",
    "df = pd.DataFrame(results)\n",
    "\n",
    "# Salvar DataFrame em um arquivo CSV\n",
    "df.to_csv(\"resultados.csv\", index=False)"
   ]
  },
  {
   "cell_type": "code",
   "execution_count": 29,
   "id": "15ee626f-d9f1-4e92-895e-d71721cbb31e",
   "metadata": {},
   "outputs": [
    {
     "data": {
      "text/html": [
       "<div>\n",
       "<style scoped>\n",
       "    .dataframe tbody tr th:only-of-type {\n",
       "        vertical-align: middle;\n",
       "    }\n",
       "\n",
       "    .dataframe tbody tr th {\n",
       "        vertical-align: top;\n",
       "    }\n",
       "\n",
       "    .dataframe thead th {\n",
       "        text-align: right;\n",
       "    }\n",
       "</style>\n",
       "<table border=\"1\" class=\"dataframe\">\n",
       "  <thead>\n",
       "    <tr style=\"text-align: right;\">\n",
       "      <th></th>\n",
       "      <th>Texto Gerado</th>\n",
       "      <th>Resumo</th>\n",
       "    </tr>\n",
       "  </thead>\n",
       "  <tbody>\n",
       "    <tr>\n",
       "      <th>0</th>\n",
       "      <td>Thousand off operation feel for because. Choic...</td>\n",
       "      <td>Thousand off operation feel for because. Choic...</td>\n",
       "    </tr>\n",
       "    <tr>\n",
       "      <th>1</th>\n",
       "      <td>And show quality stage tell. Like upon wait ca...</td>\n",
       "      <td>And show quality stage tell. Like upon wait ca...</td>\n",
       "    </tr>\n",
       "    <tr>\n",
       "      <th>2</th>\n",
       "      <td>Baby down page vote. Environment begin main co...</td>\n",
       "      <td>Baby down page vote. Environment begin main co...</td>\n",
       "    </tr>\n",
       "    <tr>\n",
       "      <th>3</th>\n",
       "      <td>Much national hear drive. Several race hope of...</td>\n",
       "      <td>Much national hear drive. Several race hope of...</td>\n",
       "    </tr>\n",
       "    <tr>\n",
       "      <th>4</th>\n",
       "      <td>Really across walk spend close.</td>\n",
       "      <td>Really across walk close. Really across walk s...</td>\n",
       "    </tr>\n",
       "  </tbody>\n",
       "</table>\n",
       "</div>"
      ],
      "text/plain": [
       "                                        Texto Gerado  \\\n",
       "0  Thousand off operation feel for because. Choic...   \n",
       "1  And show quality stage tell. Like upon wait ca...   \n",
       "2  Baby down page vote. Environment begin main co...   \n",
       "3  Much national hear drive. Several race hope of...   \n",
       "4                    Really across walk spend close.   \n",
       "\n",
       "                                              Resumo  \n",
       "0  Thousand off operation feel for because. Choic...  \n",
       "1  And show quality stage tell. Like upon wait ca...  \n",
       "2  Baby down page vote. Environment begin main co...  \n",
       "3  Much national hear drive. Several race hope of...  \n",
       "4  Really across walk close. Really across walk s...  "
      ]
     },
     "execution_count": 29,
     "metadata": {},
     "output_type": "execute_result"
    }
   ],
   "source": [
    "# Visualizando os tópicos\n",
    "data = pd.read_csv(\"resultados.csv\")\n",
    "data.head()"
   ]
  },
  {
   "cell_type": "code",
   "execution_count": 30,
   "id": "7ab95f83-e2de-426d-a3b4-468dbafaca5c",
   "metadata": {},
   "outputs": [
    {
     "data": {
      "text/plain": [
       "0    Thousand off operation feel for because. Choic...\n",
       "Name: Resumo, dtype: object"
      ]
     },
     "execution_count": 30,
     "metadata": {},
     "output_type": "execute_result"
    }
   ],
   "source": [
    "data[\"Resumo\"].head(1)"
   ]
  },
  {
   "cell_type": "markdown",
   "id": "ef3d26dd-bf62-4a0e-8638-76f28d1784f7",
   "metadata": {},
   "source": [
    "## Extrair palavras chaves - NLTK"
   ]
  },
  {
   "cell_type": "code",
   "execution_count": 31,
   "id": "f1b3e85e-67a4-4daa-9875-7692ef4244e0",
   "metadata": {},
   "outputs": [
    {
     "name": "stderr",
     "output_type": "stream",
     "text": [
      "Found cached dataset text (C:/Users/rafae/.cache/huggingface/datasets/text/default-8934ad665618eb34/0.0.0/cb1e9bd71a82ad27976be3b12b407850fe2837d80c22c5e03a28949843a8ace2)\n"
     ]
    },
    {
     "data": {
      "application/vnd.jupyter.widget-view+json": {
       "model_id": "4ec3bbd031364f14bb970c982d322adf",
       "version_major": 2,
       "version_minor": 0
      },
      "text/plain": [
       "  0%|          | 0/1 [00:00<?, ?it/s]"
      ]
     },
     "metadata": {},
     "output_type": "display_data"
    },
    {
     "data": {
      "text/plain": [
       "DatasetDict({\n",
       "    train: Dataset({\n",
       "        features: ['text'],\n",
       "        num_rows: 35\n",
       "    })\n",
       "})"
      ]
     },
     "execution_count": 31,
     "metadata": {},
     "output_type": "execute_result"
    }
   ],
   "source": [
    "# Carregar o dataset a partir do arquivo 'fake_dataset.txt'\n",
    "df = load_dataset(\"text\", data_files={\"train\": \"fake_dataset.txt\"})\n",
    "df"
   ]
  },
  {
   "cell_type": "code",
   "execution_count": 32,
   "id": "6473442f-3070-456d-b0b9-8d37d27c0544",
   "metadata": {},
   "outputs": [
    {
     "data": {
      "text/plain": [
       "['Thousand off operation feel for because. Choice federal chair. Southern song spring wish study star.',\n",
       " 'And show quality stage tell. Like upon wait car attorney eye establish.',\n",
       " 'Baby down page vote. Environment begin main common each race.',\n",
       " 'Much national hear drive. Several race hope of Republican once though give.',\n",
       " 'Really across walk spend close.',\n",
       " 'Chair account ever another month could cup. Sense across board decision at. Land purpose state response main certain.',\n",
       " 'Drop five bad exactly nature. Also lose indeed service. Summer nice record.',\n",
       " 'Color woman structure visit bad often group break. Good want interview same land voice actually. Around because discussion live body attack serve.',\n",
       " 'Mrs former before we door letter whom. They woman born.',\n",
       " 'Question development lay front.',\n",
       " 'Performance cost campaign prepare expect ago indeed. Economy PM himself because. Charge culture dinner stage those early.',\n",
       " 'Network establish where popular wall provide theory. Suddenly of school short according nearly per. Threat art strong candidate cut hot church through.',\n",
       " 'Ability technology modern your throw as myself system. Young natural paper happy. Democratic nature table miss under toward.',\n",
       " 'Both thus along such pretty few. Wind newspaper president family three all position.',\n",
       " 'Rather win require early.',\n",
       " 'Way tough year. Unit modern want any run recognize.',\n",
       " 'Sport idea either together. Her quickly citizen culture both me deal. Career green nature relationship I growth education anyone. Born different wonder nice.',\n",
       " 'Professor student lay. Clear live you performance only eight.',\n",
       " 'Surface eat forward protect national box environment financial. Day weight nothing would low capital bag. Site reality reduce probably.',\n",
       " 'Source attention according her. Improve here prepare guess me.',\n",
       " 'Improve agreement continue loss season stop list threat. Occur who letter summer officer.',\n",
       " 'Senior hot plan always international traditional. Story floor government color resource each major training. Campaign three simple father.',\n",
       " 'Any money most address crime. Onto design each garden very choice. Do maintain win summer media onto.',\n",
       " 'Any election four everybody lawyer by. Happy measure often fall. Officer such little.',\n",
       " 'Enjoy may allow pick prove window cut. Particularly size our.',\n",
       " 'Phone last learn key. Month on direction city management society environmental.',\n",
       " 'Space throw television. Benefit exactly member issue like kid believe.',\n",
       " 'Window join compare last account there expert. Again music teacher center a.',\n",
       " 'Face American source positive prevent drop entire. Meet her sing sometimes beyond scene land growth.',\n",
       " 'Public trial whole write article. Against bit fund quite per.',\n",
       " 'Term rock say education see despite cost. Budget various write live just.',\n",
       " 'Sometimes hold body success along shake generation beautiful. What every artist prove beat scientist especially.',\n",
       " 'Sound many minute light difference story. Thus finish behind season series chair. Stop animal over threat accept.',\n",
       " 'Score shake somebody maybe property. Theory let audience manager dream. Always national image analysis.',\n",
       " 'Senior thank nature south. Ready dinner arm.']"
      ]
     },
     "execution_count": 32,
     "metadata": {},
     "output_type": "execute_result"
    }
   ],
   "source": [
    "# Acessar a coluna \"text\" do dataset\n",
    "texts = df[\"train\"][\"text\"]\n",
    "texts"
   ]
  },
  {
   "cell_type": "code",
   "execution_count": 33,
   "id": "dcc04565-6f1b-4935-88d1-0595c95bb1be",
   "metadata": {},
   "outputs": [],
   "source": [
    "# Tokenização e remoção de stopwords\n",
    "tokens = word_tokenize(text.lower())\n",
    "stop_words = set(stopwords.words(\"english\"))\n",
    "filtered_tokens = [word for word in tokens if word.isalpha() and word not in stop_words]"
   ]
  },
  {
   "cell_type": "code",
   "execution_count": 34,
   "id": "c25bef44-ae37-4052-9bd8-537bc5de66f0",
   "metadata": {},
   "outputs": [],
   "source": [
    "# Contagem das palavras\n",
    "word_counts = Counter(filtered_tokens)"
   ]
  },
  {
   "cell_type": "code",
   "execution_count": 35,
   "id": "91db20f1-e7f5-4d24-9bed-59fec8eaa7ec",
   "metadata": {},
   "outputs": [],
   "source": [
    "# Número de palavras-chave que você deseja extrair\n",
    "num_keywords = 15"
   ]
  },
  {
   "cell_type": "code",
   "execution_count": 36,
   "id": "e87f37ce-cfa2-4594-a895-c02ee9fe01f8",
   "metadata": {},
   "outputs": [
    {
     "name": "stdout",
     "output_type": "stream",
     "text": [
      "Texto\n",
      "\n",
      "Performance cost campaign prepare expect ago indeed. Economy PM himself because. Charge culture dinner stage those early.\n",
      "\n",
      "Palavras-chave\n",
      "\n",
      "[('performance', 1), ('cost', 1), ('campaign', 1), ('prepare', 1), ('expect', 1)]\n",
      "\n"
     ]
    }
   ],
   "source": [
    "# Extrair palavras-chave\n",
    "def extract_keywords(text, top_n=5):\n",
    "    # Tokenização do texto\n",
    "    tokens = word_tokenize(text.lower())\n",
    "\n",
    "    # Remoção de pontuações e números\n",
    "    words = [word for word in tokens if word.isalpha()]\n",
    "\n",
    "    # Remoção de stop words\n",
    "    words = [word for word in words if word not in stop_words]\n",
    "\n",
    "    # Contagem das palavras\n",
    "    word_freq = Counter(words)\n",
    "\n",
    "    # Obtenção das palavras mais frequentes (palavras-chave)\n",
    "    keywords = word_freq.most_common(top_n)\n",
    "\n",
    "    return keywords\n",
    "\n",
    "# Exemplo de extração de palavras-chave para o primeiro texto gerado\n",
    "text = texts[10]\n",
    "keywords = extract_keywords(text)\n",
    "print(\"Texto\")\n",
    "print()\n",
    "print(text)\n",
    "print()\n",
    "print(\"Palavras-chave\")\n",
    "print()\n",
    "print(keywords)\n",
    "print()"
   ]
  },
  {
   "cell_type": "code",
   "execution_count": 37,
   "id": "0633188d-5329-469f-943a-1794b9656c97",
   "metadata": {},
   "outputs": [
    {
     "name": "stdout",
     "output_type": "stream",
     "text": [
      "Texto gerado\n",
      "\n",
      "Performance cost campaign prepare expect ago indeed. Economy PM himself because. Charge culture dinner stage those early.\n",
      "\n",
      "Palavras-chave extraidas\n",
      "\n",
      "performance: 1\n",
      "cost: 1\n",
      "campaign: 1\n",
      "prepare: 1\n",
      "expect: 1\n",
      "ago: 1\n",
      "indeed: 1\n",
      "economy: 1\n",
      "pm: 1\n",
      "charge: 1\n",
      "culture: 1\n",
      "dinner: 1\n",
      "stage: 1\n",
      "early: 1\n"
     ]
    }
   ],
   "source": [
    "# Exemplo de extração de palavras-chave para o primeiro texto gerado\n",
    "text = texts[10]\n",
    "\n",
    "# Definir o número de palavras-chave desejado\n",
    "num_keywords = 25 \n",
    "keywords = extract_keywords(text, top_n=num_keywords)\n",
    "\n",
    "print(\"Texto gerado\")\n",
    "print()\n",
    "print(text)\n",
    "print()\n",
    "print(\"Palavras-chave extraidas\")\n",
    "print()\n",
    "\n",
    "for keyword, freq in keywords:\n",
    "    print(f\"{keyword}: {freq}\")"
   ]
  },
  {
   "cell_type": "markdown",
   "id": "f37010a4-7f8c-4040-aad1-22fe14bf18e3",
   "metadata": {},
   "source": [
    "# Extrair palavras chaves - Texto geral"
   ]
  },
  {
   "cell_type": "code",
   "execution_count": 38,
   "id": "e8a3d7fd-fae5-4319-93a6-0627c58aa9d8",
   "metadata": {},
   "outputs": [],
   "source": [
    "# Exemplo de uso\n",
    "file_path = \"fake_dataset.txt\"  # Ou \"caminho/para/o/arquivo.docx\""
   ]
  },
  {
   "cell_type": "code",
   "execution_count": 39,
   "id": "69ce8225-cc7f-42f3-b6d0-2dba1d2d114b",
   "metadata": {},
   "outputs": [],
   "source": [
    "# Função para extrair texto de um arquivo .txt\n",
    "def extract_text_from_txt(file_path):\n",
    "    with open(file_path, \"r\", encoding=\"utf-8\") as file:\n",
    "        text = file.read()\n",
    "    return text"
   ]
  },
  {
   "cell_type": "code",
   "execution_count": 40,
   "id": "302d8a01-5efa-47cd-b70f-4a52fd22a046",
   "metadata": {},
   "outputs": [],
   "source": [
    "# Ou extract_text_from_docx(file_path)\n",
    "texto_do_arquivo = extract_text_from_txt(file_path)"
   ]
  },
  {
   "cell_type": "code",
   "execution_count": 41,
   "id": "b3e98250-0a03-461c-8f33-5f98d96f070e",
   "metadata": {},
   "outputs": [],
   "source": [
    "num_keywords = 25  # Definir o número de palavras-chave desejado"
   ]
  },
  {
   "cell_type": "code",
   "execution_count": 42,
   "id": "e7fabf4b-1da7-4816-a494-ef1aa0b56cc0",
   "metadata": {},
   "outputs": [],
   "source": [
    "keywords = extract_keywords(texto_do_arquivo, top_n=num_keywords)"
   ]
  },
  {
   "cell_type": "code",
   "execution_count": 43,
   "id": "a5a6b02d-43b2-44e0-a847-24407d1c3992",
   "metadata": {},
   "outputs": [
    {
     "name": "stdout",
     "output_type": "stream",
     "text": [
      "Texto do arquivo\n",
      "\n",
      "Thousand off operation feel for because. Choice federal chair. Southern song spring wish study star.\n",
      "And show quality stage tell. Like upon wait car attorney eye establish.\n",
      "Baby down page vote. Environment begin main common each race.\n",
      "Much national hear drive. Several race hope of Republican once though give.\n",
      "Really across walk spend close.\n",
      "Chair account ever another month could cup. Sense across board decision at. Land purpose state response main certain.\n",
      "Drop five bad exactly nature. Also lose indeed service. Summer nice record.\n",
      "Color woman structure visit bad often group break. Good want interview same land voice actually. Around because discussion live body attack serve.\n",
      "Mrs former before we door letter whom. They woman born.\n",
      "Question development lay front.\n",
      "Performance cost campaign prepare expect ago indeed. Economy PM himself because. Charge culture dinner stage those early.\n",
      "Network establish where popular wall provide theory. Suddenly of school short according nearly per. Threat art strong candidate cut hot church through.\n",
      "Ability technology modern your throw as myself system. Young natural paper happy. Democratic nature table miss under toward.\n",
      "Both thus along such pretty few. Wind newspaper president family three all position.\n",
      "Rather win require early.\n",
      "Way tough year. Unit modern want any run recognize.\n",
      "Sport idea either together. Her quickly citizen culture both me deal. Career green nature relationship I growth education anyone. Born different wonder nice.\n",
      "Professor student lay. Clear live you performance only eight.\n",
      "Surface eat forward protect national box environment financial. Day weight nothing would low capital bag. Site reality reduce probably.\n",
      "Source attention according her. Improve here prepare guess me.\n",
      "Improve agreement continue loss season stop list threat. Occur who letter summer officer.\n",
      "Senior hot plan always international traditional. Story floor government color resource each major training. Campaign three simple father.\n",
      "Any money most address crime. Onto design each garden very choice. Do maintain win summer media onto.\n",
      "Any election four everybody lawyer by. Happy measure often fall. Officer such little.\n",
      "Enjoy may allow pick prove window cut. Particularly size our.\n",
      "Phone last learn key. Month on direction city management society environmental.\n",
      "Space throw television. Benefit exactly member issue like kid believe.\n",
      "Window join compare last account there expert. Again music teacher center a.\n",
      "Face American source positive prevent drop entire. Meet her sing sometimes beyond scene land growth.\n",
      "Public trial whole write article. Against bit fund quite per.\n",
      "Term rock say education see despite cost. Budget various write live just.\n",
      "Sometimes hold body success along shake generation beautiful. What every artist prove beat scientist especially.\n",
      "Sound many minute light difference story. Thus finish behind season series chair. Stop animal over threat accept.\n",
      "Score shake somebody maybe property. Theory let audience manager dream. Always national image analysis.\n",
      "Senior thank nature south. Ready dinner arm.\n",
      "\n",
      "Palavras-chave:\n",
      "\n",
      "nature: 4\n",
      "chair: 3\n",
      "national: 3\n",
      "land: 3\n",
      "summer: 3\n",
      "live: 3\n",
      "threat: 3\n",
      "choice: 2\n",
      "stage: 2\n",
      "like: 2\n",
      "establish: 2\n",
      "environment: 2\n",
      "main: 2\n",
      "race: 2\n",
      "across: 2\n",
      "account: 2\n",
      "month: 2\n",
      "drop: 2\n",
      "bad: 2\n",
      "exactly: 2\n",
      "indeed: 2\n",
      "nice: 2\n",
      "color: 2\n",
      "woman: 2\n",
      "often: 2\n"
     ]
    }
   ],
   "source": [
    "print(\"Texto do arquivo\")\n",
    "print()\n",
    "print(texto_do_arquivo)\n",
    "print()\n",
    "print(\"Palavras-chave:\")\n",
    "print()\n",
    "\n",
    "for keyword, freq in keywords:\n",
    "    print(f\"{keyword}: {freq}\")"
   ]
  },
  {
   "cell_type": "code",
   "execution_count": null,
   "id": "1d9c3b3a-077c-44f5-88e8-229e5df83147",
   "metadata": {},
   "outputs": [],
   "source": []
  },
  {
   "cell_type": "code",
   "execution_count": null,
   "id": "c9be72eb-74a2-41e0-a8c6-6d2e857c8fa7",
   "metadata": {},
   "outputs": [],
   "source": []
  }
 ],
 "metadata": {
  "kernelspec": {
   "display_name": "Python 3 (ipykernel)",
   "language": "python",
   "name": "python3"
  },
  "language_info": {
   "codemirror_mode": {
    "name": "ipython",
    "version": 3
   },
   "file_extension": ".py",
   "mimetype": "text/x-python",
   "name": "python",
   "nbconvert_exporter": "python",
   "pygments_lexer": "ipython3",
   "version": "3.9.13"
  }
 },
 "nbformat": 4,
 "nbformat_minor": 5
}
